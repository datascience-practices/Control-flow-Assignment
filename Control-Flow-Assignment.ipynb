{
 "cells": [
  {
   "cell_type": "markdown",
   "id": "de040d12-fffe-41f6-84d0-f802a3d7295e",
   "metadata": {},
   "source": [
    "1. Write a Python program to check if a given number is positive or negative."
   ]
  },
  {
   "cell_type": "code",
   "execution_count": 1,
   "id": "db7640a9-7bde-4dd4-91aa-acdbb5d28b08",
   "metadata": {},
   "outputs": [
    {
     "name": "stdin",
     "output_type": "stream",
     "text": [
      "Enter a number:  6\n"
     ]
    },
    {
     "name": "stdout",
     "output_type": "stream",
     "text": [
      "The number is positive.\n"
     ]
    }
   ],
   "source": [
    "# Input a number from the user\n",
    "number = float(input(\"Enter a number: \"))\n",
    "\n",
    "# Check if the number is positive, negative, or zero\n",
    "if number > 0:\n",
    "    print(\"The number is positive.\")\n",
    "elif number < 0:\n",
    "    print(\"The number is negative.\")\n",
    "else:\n",
    "    print(\"The number is zero.\")\n"
   ]
  },
  {
   "cell_type": "markdown",
   "id": "dd444871-395d-4982-b487-8ec551d826ed",
   "metadata": {},
   "source": [
    "2. Create a program that determines if a person is eligible to vote based on their age."
   ]
  },
  {
   "cell_type": "code",
   "execution_count": 3,
   "id": "61f5fb43-a057-40f2-8bdb-d1613be9d41d",
   "metadata": {},
   "outputs": [
    {
     "name": "stdin",
     "output_type": "stream",
     "text": [
      "Enter your age:  9\n"
     ]
    },
    {
     "name": "stdout",
     "output_type": "stream",
     "text": [
      "You are not eligible to vote yet.\n"
     ]
    }
   ],
   "source": [
    "# Input the age of the person\n",
    "age = int(input(\"Enter your age: \"))\n",
    "\n",
    "# Check if the person is eligible to vote\n",
    "if age >= 18:\n",
    "    print(\"You are eligible to vote.\")\n",
    "else:\n",
    "    print(\"You are not eligible to vote yet.\")\n"
   ]
  },
  {
   "cell_type": "markdown",
   "id": "c9846670-fda7-4654-9c18-11cae0c99d22",
   "metadata": {},
   "source": [
    "3. Develop a program to find the maximum of two numbers using if-else statements."
   ]
  },
  {
   "cell_type": "code",
   "execution_count": 7,
   "id": "1eafc4a8-b775-4af4-bf64-9e6ca5d67cca",
   "metadata": {},
   "outputs": [
    {
     "name": "stdin",
     "output_type": "stream",
     "text": [
      "Enter the first number:  90\n",
      "Enter the second number:  10\n"
     ]
    },
    {
     "name": "stdout",
     "output_type": "stream",
     "text": [
      "The maximum from the 90.0 and 10.0 is:  90.0\n"
     ]
    }
   ],
   "source": [
    "# Input two numbers from the user\n",
    "num1 = float(input(\"Enter the first number: \"))\n",
    "num2 = float(input(\"Enter the second number: \"))\n",
    "\n",
    "# Compare the two numbers to find the maximum\n",
    "if num1 > num2:\n",
    "    maximum = num1\n",
    "else:\n",
    "    maximum = num2\n",
    "\n",
    "# Print the maximum number\n",
    "print(\"The maximum from the\", num1, \"and\", num2, \"is: \", maximum)\n"
   ]
  },
  {
   "cell_type": "markdown",
   "id": "655cdbbc-6a11-4fc5-bbff-7ebd4f962117",
   "metadata": {},
   "source": [
    "4. Write a Python script to classify a given year as a leap year or not."
   ]
  },
  {
   "cell_type": "code",
   "execution_count": 8,
   "id": "9166385f-013f-4010-b0d4-2459842a9234",
   "metadata": {},
   "outputs": [
    {
     "name": "stdin",
     "output_type": "stream",
     "text": [
      "Enter a year:  2023\n"
     ]
    },
    {
     "name": "stdout",
     "output_type": "stream",
     "text": [
      "2023 is not a leap year.\n"
     ]
    }
   ],
   "source": [
    "# Input a year from the user\n",
    "year = int(input(\"Enter a year: \"))\n",
    "\n",
    "# Check if it's a leap year\n",
    "if (year % 4 == 0 and year % 100 != 0) or (year % 400 == 0):\n",
    "    print(year, \"is a leap year.\")\n",
    "else:\n",
    "    print(year, \"is not a leap year.\")\n"
   ]
  },
  {
   "cell_type": "markdown",
   "id": "c8397045-43b0-4c93-8ef7-ea479a73afa1",
   "metadata": {},
   "source": [
    "5. Create a program that checks whether a character is a vowel or a consonant."
   ]
  },
  {
   "cell_type": "code",
   "execution_count": 12,
   "id": "ffd3b76e-ddcb-4c5b-bc95-b1371b9b8482",
   "metadata": {},
   "outputs": [
    {
     "name": "stdin",
     "output_type": "stream",
     "text": [
      "Enter a character:  b\n"
     ]
    },
    {
     "name": "stdout",
     "output_type": "stream",
     "text": [
      "b is a consonant.\n"
     ]
    }
   ],
   "source": [
    "# Input a character from the user\n",
    "character = input(\"Enter a character: \")\n",
    "\n",
    "# Ensure the input is a single character\n",
    "if len(character) == 1:\n",
    "    # Check if it's a vowel (assuming lowercase)\n",
    "    if character in 'aeiou':\n",
    "        print(f\"{character} is a vowel.\")\n",
    "    else:\n",
    "        print(f\"{character} is a consonant.\")\n",
    "else:\n",
    "    print(\"Please enter a single character.\")\n"
   ]
  },
  {
   "cell_type": "markdown",
   "id": "80bf40b0-f2b2-4c36-a8ec-502e03103cdc",
   "metadata": {},
   "source": [
    "6. Implement a program to determine whether a given number is even or odd."
   ]
  },
  {
   "cell_type": "code",
   "execution_count": 13,
   "id": "9a6df3ee-559b-4ae2-beec-b11f9b15b7cf",
   "metadata": {},
   "outputs": [
    {
     "name": "stdin",
     "output_type": "stream",
     "text": [
      "Enter a number:  90\n"
     ]
    },
    {
     "name": "stdout",
     "output_type": "stream",
     "text": [
      "90 is even.\n"
     ]
    }
   ],
   "source": [
    "# Input a number from the user\n",
    "number = int(input(\"Enter a number: \"))\n",
    "\n",
    "# Check if the number is even or odd\n",
    "if number % 2 == 0:\n",
    "    print(number, \"is even.\")\n",
    "else:\n",
    "    print(number, \"is odd.\")\n"
   ]
  },
  {
   "cell_type": "markdown",
   "id": "57302a83-8ab3-4f41-b58f-465de6b2c948",
   "metadata": {},
   "source": [
    "7. Write a Python function to calculate the absolute value of a number without using the `abs()` function."
   ]
  },
  {
   "cell_type": "code",
   "execution_count": 2,
   "id": "17193c4d-e242-4567-a21c-f608023cfde6",
   "metadata": {},
   "outputs": [
    {
     "name": "stdin",
     "output_type": "stream",
     "text": [
      "Enter a number:  -90\n"
     ]
    },
    {
     "name": "stdout",
     "output_type": "stream",
     "text": [
      "The absolute value of -90.0 is 90.0\n"
     ]
    }
   ],
   "source": [
    "def custom_abs(number):\n",
    "    if number < 0:\n",
    "        return -number\n",
    "    else:\n",
    "        return number\n",
    "\n",
    "# Test the custom_abs function\n",
    "number = float(input(\"Enter a number: \"))\n",
    "abs_value = custom_abs(number)\n",
    "print(f\"The absolute value of {number} is {abs_value}\")\n"
   ]
  },
  {
   "cell_type": "markdown",
   "id": "ba95a045-341c-4bb7-91cb-c2eaeb2a2162",
   "metadata": {},
   "source": [
    "8. Develop a program that determines the largest of three given numbers using if-else statements."
   ]
  },
  {
   "cell_type": "code",
   "execution_count": 4,
   "id": "adc02ab7-a9b5-4909-9ed7-32bb1178795f",
   "metadata": {},
   "outputs": [
    {
     "name": "stdin",
     "output_type": "stream",
     "text": [
      "Enter the first number:  2\n",
      "Enter the second number:  4\n",
      "Enter the third number:  6\n"
     ]
    },
    {
     "name": "stdout",
     "output_type": "stream",
     "text": [
      "The largest number:  6.0\n"
     ]
    }
   ],
   "source": [
    "# Input three numbers from the user\n",
    "num1 = float(input(\"Enter the first number: \"))\n",
    "num2 = float(input(\"Enter the second number: \"))\n",
    "num3 = float(input(\"Enter the third number: \"))\n",
    "\n",
    "# Determine the largest number using if-else statements\n",
    "if num1 >= num2 and num1 >= num3:\n",
    "    largest = num1\n",
    "elif num2 >= num1 and num2 >= num3:\n",
    "    largest = num2\n",
    "else:\n",
    "    largest = num3\n",
    "\n",
    "# Print the largest number\n",
    "print(\"The largest number: \", largest)\n"
   ]
  },
  {
   "cell_type": "markdown",
   "id": "00fd52e6-7729-4cce-a78a-9b79ad8607ae",
   "metadata": {},
   "source": [
    "9. Create a program that checks if a given string is a palindrome."
   ]
  },
  {
   "cell_type": "code",
   "execution_count": 5,
   "id": "3765a56b-b8d1-48f4-9dda-7ebd22cb0269",
   "metadata": {},
   "outputs": [
    {
     "name": "stdin",
     "output_type": "stream",
     "text": [
      "Enter a string:  madam\n"
     ]
    },
    {
     "name": "stdout",
     "output_type": "stream",
     "text": [
      "The string is a palindrome.\n"
     ]
    }
   ],
   "source": [
    "# Input a string from the user\n",
    "string = input(\"Enter a string: \")\n",
    "\n",
    "# Remove spaces and convert the string to lowercase\n",
    "string = string.replace(\" \", \"\").lower()\n",
    "\n",
    "# Check if the string is a palindrome\n",
    "if string == string[::-1]:\n",
    "    print(\"The string is a palindrome.\")\n",
    "else:\n",
    "    print(\"The string is not a palindrome.\")\n"
   ]
  },
  {
   "cell_type": "markdown",
   "id": "191564b6-4b08-46ff-9657-b9689c883d7f",
   "metadata": {},
   "source": [
    "10. Write a Python program to calculate the grade based on a student's score."
   ]
  },
  {
   "cell_type": "code",
   "execution_count": 7,
   "id": "e05dadb5-109a-4093-849d-5932fd8bc3a0",
   "metadata": {},
   "outputs": [
    {
     "name": "stdin",
     "output_type": "stream",
     "text": [
      "Enter the student's score:  90\n"
     ]
    },
    {
     "name": "stdout",
     "output_type": "stream",
     "text": [
      "The student's grade is A\n"
     ]
    }
   ],
   "source": [
    "# Input the student's score from the user\n",
    "score = float(input(\"Enter the student's score: \"))\n",
    "\n",
    "# Calculate the grade based on the score\n",
    "if score >= 90:\n",
    "    grade = 'A'\n",
    "elif score >= 80:\n",
    "    grade = 'B'\n",
    "elif score >= 70:\n",
    "    grade = 'C'\n",
    "elif score >= 60:\n",
    "    grade = 'D'\n",
    "else:\n",
    "    grade = 'F'\n",
    "\n",
    "# Print the calculated grade\n",
    "print(f\"The student's grade is {grade}\")\n"
   ]
  },
  {
   "cell_type": "markdown",
   "id": "cd3d52a8-6518-4c7e-96df-cc8b6e2c33cf",
   "metadata": {},
   "source": [
    "11. Write a program to find the largest among three numbers using nested if-else statements."
   ]
  },
  {
   "cell_type": "code",
   "execution_count": 9,
   "id": "b4c6bd15-d732-4492-9d86-3452f338fd4f",
   "metadata": {},
   "outputs": [
    {
     "name": "stdin",
     "output_type": "stream",
     "text": [
      "Enter the first number:  40\n",
      "Enter the second number:  50\n",
      "Enter the third number:  60\n"
     ]
    },
    {
     "name": "stdout",
     "output_type": "stream",
     "text": [
      "The largest number among:  60.0\n"
     ]
    }
   ],
   "source": [
    "# Input three numbers from the user\n",
    "num1 = float(input(\"Enter the first number: \"))\n",
    "num2 = float(input(\"Enter the second number: \"))\n",
    "num3 = float(input(\"Enter the third number: \"))\n",
    "\n",
    "# Determine the largest number using nested if-else statements\n",
    "if num1 >= num2:\n",
    "    if num1 >= num3:\n",
    "        largest = num1\n",
    "    else:\n",
    "        largest = num3\n",
    "else:\n",
    "    if num2 >= num3:\n",
    "        largest = num2\n",
    "    else:\n",
    "        largest = num3\n",
    "\n",
    "# Print the largest number\n",
    "print(\"The largest number among: \", largest)\n"
   ]
  },
  {
   "cell_type": "markdown",
   "id": "981c8bf7-6385-46c8-989e-98aa4bd42f15",
   "metadata": {},
   "source": [
    "12. Implement a program to determine if a triangle is equilateral, isosceles, or scalene."
   ]
  },
  {
   "cell_type": "code",
   "execution_count": 10,
   "id": "e961b099-991c-41f5-a2c6-a5d03a6e8195",
   "metadata": {},
   "outputs": [
    {
     "name": "stdin",
     "output_type": "stream",
     "text": [
      "Enter the length of the first side:  8\n",
      "Enter the length of the second side:  8\n",
      "Enter the length of the third side:  8\n"
     ]
    },
    {
     "name": "stdout",
     "output_type": "stream",
     "text": [
      "It is a equilateral triangle.\n"
     ]
    }
   ],
   "source": [
    "# Input the lengths of the three sides of the triangle\n",
    "side1 = float(input(\"Enter the length of the first side: \"))\n",
    "side2 = float(input(\"Enter the length of the second side: \"))\n",
    "side3 = float(input(\"Enter the length of the third side: \"))\n",
    "\n",
    "# Check if it's a valid triangle\n",
    "if (side1 + side2 > side3) and (side1 + side3 > side2) and (side2 + side3 > side1):\n",
    "    # Check for the type of triangle\n",
    "    if side1 == side2 == side3:\n",
    "        triangle_type = \"equilateral\"\n",
    "    elif side1 == side2 or side1 == side3 or side2 == side3:\n",
    "        triangle_type = \"isosceles\"\n",
    "    else:\n",
    "        triangle_type = \"scalene\"\n",
    "\n",
    "    # Print the type of triangle\n",
    "    print(f\"It is a {triangle_type} triangle.\")\n",
    "else:\n",
    "    print(\"It is not a valid triangle.\")\n"
   ]
  },
  {
   "cell_type": "markdown",
   "id": "de27e8bd-41b7-4f1c-8cc5-3b3da57363a4",
   "metadata": {},
   "source": [
    "13. Develop a program that checks if a year is a leap year and also if it is a century year."
   ]
  },
  {
   "cell_type": "code",
   "execution_count": 11,
   "id": "8d6d8705-8f55-486c-80a0-5f6a0c4ce227",
   "metadata": {},
   "outputs": [
    {
     "name": "stdin",
     "output_type": "stream",
     "text": [
      "Enter a year:  2023\n"
     ]
    },
    {
     "name": "stdout",
     "output_type": "stream",
     "text": [
      "2023 is not a leap year.\n",
      "2023 is not a century year.\n"
     ]
    }
   ],
   "source": [
    "# Input a year from the user\n",
    "year = int(input(\"Enter a year: \"))\n",
    "\n",
    "# Check if it's a leap year\n",
    "is_leap_year = (year % 4 == 0 and year % 100 != 0) or (year % 400 == 0)\n",
    "\n",
    "# Check if it's a century year\n",
    "is_century_year = year % 100 == 0\n",
    "\n",
    "# Print the results\n",
    "if is_leap_year:\n",
    "    print(year, \"is a leap year.\")\n",
    "else:\n",
    "    print(year, \"is not a leap year.\")\n",
    "\n",
    "if is_century_year:\n",
    "    print(year, \"is a century year.\")\n",
    "else:\n",
    "    print(year, \"is not a century year.\")\n"
   ]
  },
  {
   "cell_type": "markdown",
   "id": "c4ae17be-3ef5-42e3-82e9-2dbb6e90a875",
   "metadata": {},
   "source": [
    "14. Write a Python script to determine if a number is positive, negative, or zero."
   ]
  },
  {
   "cell_type": "code",
   "execution_count": 12,
   "id": "c6c3c0fd-bdba-4c05-854d-730aceb40293",
   "metadata": {},
   "outputs": [
    {
     "name": "stdin",
     "output_type": "stream",
     "text": [
      "Enter a number:  -2\n"
     ]
    },
    {
     "name": "stdout",
     "output_type": "stream",
     "text": [
      "The number is negative.\n"
     ]
    }
   ],
   "source": [
    "# Input a number from the user\n",
    "number = float(input(\"Enter a number: \"))\n",
    "\n",
    "# Check if the number is positive, negative, or zero\n",
    "if number > 0:\n",
    "    print(\"The number is positive.\")\n",
    "elif number < 0:\n",
    "    print(\"The number is negative.\")\n",
    "else:\n",
    "    print(\"The number is zero.\")\n"
   ]
  },
  {
   "cell_type": "markdown",
   "id": "b2511b76-336a-42ad-ba9d-bf330c21835d",
   "metadata": {},
   "source": [
    "15. Create a program to check if a person is a teenager (between 13 and 19 years old)."
   ]
  },
  {
   "cell_type": "code",
   "execution_count": 13,
   "id": "ff12eb8f-9db0-4e03-9da4-6db5aa4a36d7",
   "metadata": {},
   "outputs": [
    {
     "name": "stdin",
     "output_type": "stream",
     "text": [
      "Enter the person's age:  12\n"
     ]
    },
    {
     "name": "stdout",
     "output_type": "stream",
     "text": [
      "The person is not a teenager.\n"
     ]
    }
   ],
   "source": [
    "# Input the person's age\n",
    "age = int(input(\"Enter the person's age: \"))\n",
    "\n",
    "# Check if the person is a teenager (between 13 and 19 years old)\n",
    "if 13 <= age <= 19:\n",
    "    print(\"The person is a teenager.\")\n",
    "else:\n",
    "    print(\"The person is not a teenager.\")\n"
   ]
  },
  {
   "cell_type": "markdown",
   "id": "c290793d-e620-4c7c-811c-9b8575d62032",
   "metadata": {},
   "source": [
    "16. Develop a program that determines the type of angle based on its measure (acute, obtuse, or right)."
   ]
  },
  {
   "cell_type": "code",
   "execution_count": 14,
   "id": "13e5d509-821f-4301-80be-0c3ac0de819a",
   "metadata": {},
   "outputs": [
    {
     "name": "stdin",
     "output_type": "stream",
     "text": [
      "Enter the angle measure in degrees:  23\n"
     ]
    },
    {
     "name": "stdout",
     "output_type": "stream",
     "text": [
      "The angle is Acute.\n"
     ]
    }
   ],
   "source": [
    "# Input the angle measure from the user\n",
    "angle = float(input(\"Enter the angle measure in degrees: \"))\n",
    "\n",
    "# Check the type of angle\n",
    "if angle < 90:\n",
    "    angle_type = \"Acute\"\n",
    "elif angle == 90:\n",
    "    angle_type = \"Right\"\n",
    "else:\n",
    "    angle_type = \"Obtuse\"\n",
    "\n",
    "# Print the type of angle\n",
    "print(f\"The angle is {angle_type}.\")\n"
   ]
  },
  {
   "cell_type": "markdown",
   "id": "24fe2aee-8c68-41d8-a892-35e87c4e3d2d",
   "metadata": {},
   "source": [
    "17. Write a Python program to calculate the roots of a quadratic equation."
   ]
  },
  {
   "cell_type": "code",
   "execution_count": 16,
   "id": "1ed814c5-be4c-47e7-a03a-2dc68e57ec08",
   "metadata": {},
   "outputs": [
    {
     "name": "stdin",
     "output_type": "stream",
     "text": [
      "Enter the coefficient a:  7\n",
      "Enter the coefficient b:  3\n",
      "Enter the coefficient c:  4\n"
     ]
    },
    {
     "name": "stdout",
     "output_type": "stream",
     "text": [
      "Root 1 = -0.21428571428571427 + 0.7249208260780157i\n",
      "Root 2 = -0.21428571428571427 - 0.7249208260780157i\n"
     ]
    }
   ],
   "source": [
    "# Input coefficients of the quadratic equation (a, b, c)\n",
    "a = float(input(\"Enter the coefficient a: \"))\n",
    "b = float(input(\"Enter the coefficient b: \"))\n",
    "c = float(input(\"Enter the coefficient c: \"))\n",
    "\n",
    "# Calculate the discriminant (D)\n",
    "D = b**2 - 4*a*c\n",
    "\n",
    "# Check the nature of the roots based on the discriminant\n",
    "if D > 0:\n",
    "    # Two distinct real roots\n",
    "    root1 = (-b + D**0.5) / (2*a)\n",
    "    root2 = (-b - D**0.5) / (2*a)\n",
    "    print(f\"Root 1 = {root1}, Root 2 = {root2}\")\n",
    "elif D == 0:\n",
    "    # One real root (repeated)\n",
    "    root1 = -b / (2*a)\n",
    "    print(f\"Root 1 = {root1}\")\n",
    "else:\n",
    "    # Complex roots\n",
    "    real_part = -b / (2*a)\n",
    "    imaginary_part = abs(D**0.5) / (2*a)\n",
    "    print(f\"Root 1 = {real_part} + {imaginary_part}i\")\n",
    "    print(f\"Root 2 = {real_part} - {imaginary_part}i\")\n"
   ]
  },
  {
   "cell_type": "code",
   "execution_count": 17,
   "id": "e8a2b284-269f-44ad-8b8d-beabe7d11986",
   "metadata": {},
   "outputs": [
    {
     "name": "stdin",
     "output_type": "stream",
     "text": [
      "Enter a: 4\n",
      "Enter b: 6\n",
      "Enter c: 7\n"
     ]
    },
    {
     "name": "stdout",
     "output_type": "stream",
     "text": [
      "Complex Roots\n",
      "-0.75  + i 8.717797887081348\n",
      "-0.75  - i 8.717797887081348\n"
     ]
    }
   ],
   "source": [
    "import math  \n",
    "# function for finding roots  \n",
    "def findRoots(a, b, c):  \n",
    "  \n",
    "    dis_form = b * b - 4 * a * c  \n",
    "    sqrt_val = math.sqrt(abs(dis_form))  \n",
    "  \n",
    "  \n",
    "    if dis_form > 0:  \n",
    "        print(\" real and different roots \")  \n",
    "        print((-b + sqrt_val) / (2 * a))  \n",
    "        print((-b - sqrt_val) / (2 * a))  \n",
    "  \n",
    "    elif dis_form == 0:  \n",
    "        print(\" real and same roots\")  \n",
    "        print(-b / (2 * a))  \n",
    "  \n",
    "  \n",
    "    else:  \n",
    "        print(\"Complex Roots\")  \n",
    "        print(- b / (2 * a), \" + i\", sqrt_val)  \n",
    "        print(- b / (2 * a), \" - i\", sqrt_val)  \n",
    "  \n",
    "  \n",
    "a = int(input('Enter a:'))  \n",
    "b = int(input('Enter b:'))  \n",
    "c = int(input('Enter c:'))  \n",
    "  \n",
    "# If a is 0, then incorrect equation  \n",
    "if a == 0:  \n",
    "    print(\"Input correct quadratic equation\")  \n",
    "else:  \n",
    "    findRoots(a, b, c)  "
   ]
  },
  {
   "cell_type": "markdown",
   "id": "09dabc89-ed41-4f9d-963f-6f3b3905dd06",
   "metadata": {},
   "source": [
    "18. Implement a program to determine the day of the week based on a user-provided number (1 for Monday, 2\n",
    "for Tuesday, etc.)."
   ]
  },
  {
   "cell_type": "code",
   "execution_count": 18,
   "id": "79254ff0-95fd-4760-a6dd-e17860203d32",
   "metadata": {},
   "outputs": [
    {
     "name": "stdin",
     "output_type": "stream",
     "text": [
      "Enter a number (1-7) for the day of the week:  1\n"
     ]
    },
    {
     "name": "stdout",
     "output_type": "stream",
     "text": [
      "The day corresponding to 1 is Monday.\n"
     ]
    }
   ],
   "source": [
    "# Input a number for the day of the week\n",
    "day_number = int(input(\"Enter a number (1-7) for the day of the week: \"))\n",
    "\n",
    "# Determine the day of the week\n",
    "if day_number == 1:\n",
    "    day_name = \"Monday\"\n",
    "elif day_number == 2:\n",
    "    day_name = \"Tuesday\"\n",
    "elif day_number == 3:\n",
    "    day_name = \"Wednesday\"\n",
    "elif day_number == 4:\n",
    "    day_name = \"Thursday\"\n",
    "elif day_number == 5:\n",
    "    day_name = \"Friday\"\n",
    "elif day_number == 6:\n",
    "    day_name = \"Saturday\"\n",
    "elif day_number == 7:\n",
    "    day_name = \"Sunday\"\n",
    "else:\n",
    "    day_name = \"Invalid\"\n",
    "\n",
    "# Print the day of the week\n",
    "if day_name == \"Invalid\":\n",
    "    print(\"Invalid input. Please enter a number from 1 to 7.\")\n",
    "else:\n",
    "    print(f\"The day corresponding to {day_number} is {day_name}.\")\n"
   ]
  },
  {
   "cell_type": "markdown",
   "id": "4b7fdceb-9ac7-4041-85ae-54c0309e2a93",
   "metadata": {},
   "source": [
    "19. Create a program that determines if a year is a leap year and also if it is evenly divisible by 400."
   ]
  },
  {
   "cell_type": "code",
   "execution_count": 19,
   "id": "ce709087-d58e-4fdd-b527-a6cf78b736b7",
   "metadata": {},
   "outputs": [
    {
     "name": "stdin",
     "output_type": "stream",
     "text": [
      "Enter a year:  2023\n"
     ]
    },
    {
     "name": "stdout",
     "output_type": "stream",
     "text": [
      "2023 is not a leap year.\n",
      "2023 is not evenly divisible by 400.\n"
     ]
    }
   ],
   "source": [
    "# Input a year from the user\n",
    "year = int(input(\"Enter a year: \"))\n",
    "\n",
    "# Check if it's a leap year\n",
    "is_leap_year = (year % 4 == 0 and year % 100 != 0) or (year % 400 == 0)\n",
    "\n",
    "# Check if it's evenly divisible by 400\n",
    "is_divisible_by_400 = year % 400 == 0\n",
    "\n",
    "# Print the results\n",
    "if is_leap_year:\n",
    "    print(year, \"is a leap year.\")\n",
    "else:\n",
    "    print(year, \"is not a leap year.\")\n",
    "\n",
    "if is_divisible_by_400:\n",
    "    print(year, \"is evenly divisible by 400.\")\n",
    "else:\n",
    "    print(year, \"is not evenly divisible by 400.\")\n"
   ]
  },
  {
   "cell_type": "markdown",
   "id": "205f53b9-eff4-49a8-963d-a60f39dd3a0e",
   "metadata": {},
   "source": [
    "20. Develop a program that checks if a given number is prime or not using nested if-else statements."
   ]
  },
  {
   "cell_type": "code",
   "execution_count": 20,
   "id": "44191b63-e358-4918-8297-17b2883b6ed6",
   "metadata": {},
   "outputs": [
    {
     "name": "stdin",
     "output_type": "stream",
     "text": [
      "Enter a number:  4\n"
     ]
    },
    {
     "name": "stdout",
     "output_type": "stream",
     "text": [
      "4 is not a prime number.\n"
     ]
    }
   ],
   "source": [
    "# Input a number from the user\n",
    "number = int(input(\"Enter a number: \"))\n",
    "\n",
    "# Check if the number is prime\n",
    "if number <= 1:\n",
    "    is_prime = False\n",
    "else:\n",
    "    is_prime = True\n",
    "    for i in range(2, int(number**0.5) + 1):\n",
    "        if number % i == 0:\n",
    "            is_prime = False\n",
    "            break\n",
    "\n",
    "# Print the result\n",
    "if is_prime:\n",
    "    print(number, \"is a prime number.\")\n",
    "else:\n",
    "    print(number, \"is not a prime number.\")\n"
   ]
  },
  {
   "cell_type": "markdown",
   "id": "8d550804-9f2c-4a05-93c1-a84b5d518552",
   "metadata": {},
   "source": [
    "21. Write a Python program to assign grades based on different ranges of scores using elif statements."
   ]
  },
  {
   "cell_type": "code",
   "execution_count": 21,
   "id": "9e7eceb0-6861-484d-b183-4556be1f70e9",
   "metadata": {},
   "outputs": [
    {
     "name": "stdin",
     "output_type": "stream",
     "text": [
      "Enter the student's score:  90\n"
     ]
    },
    {
     "name": "stdout",
     "output_type": "stream",
     "text": [
      "The student's grade is A\n"
     ]
    }
   ],
   "source": [
    "# Input the student's score from the user\n",
    "score = float(input(\"Enter the student's score: \"))\n",
    "\n",
    "# Assign grades based on score ranges using elif statements\n",
    "if 90 <= score <= 100:\n",
    "    grade = 'A'\n",
    "elif 80 <= score < 90:\n",
    "    grade = 'B'\n",
    "elif 70 <= score < 80:\n",
    "    grade = 'C'\n",
    "elif 60 <= score < 70:\n",
    "    grade = 'D'\n",
    "elif 0 <= score < 60:\n",
    "    grade = 'F'\n",
    "else:\n",
    "    grade = 'Invalid (score out of range)'\n",
    "\n",
    "# Print the assigned grade\n",
    "print(f\"The student's grade is {grade}\")\n"
   ]
  },
  {
   "cell_type": "markdown",
   "id": "509dbb29-2d7b-42c2-b262-43be6ffb29c3",
   "metadata": {},
   "source": [
    "22. Implement a program to determine the type of a triangle based on its angles."
   ]
  },
  {
   "cell_type": "code",
   "execution_count": 29,
   "id": "db8e2983-197b-4dd8-ba72-e80767787216",
   "metadata": {},
   "outputs": [
    {
     "name": "stdin",
     "output_type": "stream",
     "text": [
      "Enter the first angle in degrees:  90\n",
      "Enter the second angle in degrees:  90\n",
      "Enter the third angle in degrees:  90\n"
     ]
    },
    {
     "name": "stdout",
     "output_type": "stream",
     "text": [
      "The triangle is Invalid (angles do not add up to 180 degrees).\n"
     ]
    }
   ],
   "source": [
    "# Input the three angles of the triangle from the user\n",
    "angle1 = float(input(\"Enter the first angle in degrees: \"))\n",
    "angle2 = float(input(\"Enter the second angle in degrees: \"))\n",
    "angle3 = float(input(\"Enter the third angle in degrees: \"))\n",
    "\n",
    "# Check the type of triangle based on its angles\n",
    "if angle1 + angle2 + angle3 == 180:\n",
    "    if angle1 < 90 and angle2 < 90 and angle3 < 90:\n",
    "        triangle_type = \"Acute\"\n",
    "    elif angle1 == 90 or angle2 == 90 or angle3 == 90:\n",
    "        triangle_type = \"Right\"\n",
    "    else:\n",
    "        triangle_type = \"Obtuse\"\n",
    "else:\n",
    "    triangle_type = \"Invalid (angles do not add up to 180 degrees)\"\n",
    "\n",
    "# Print the type of triangle\n",
    "print(f\"The triangle is {triangle_type}.\")\n"
   ]
  },
  {
   "cell_type": "markdown",
   "id": "900a3cd9-48ea-4e45-aebe-53125d41a2db",
   "metadata": {},
   "source": [
    "23. Develop a program to categorize a given person's BMI into underweight, normal, overweight, or obese using\n",
    "elif statements."
   ]
  },
  {
   "cell_type": "code",
   "execution_count": 32,
   "id": "0d831543-e6bc-4f3e-b171-c79eb5b40bf1",
   "metadata": {},
   "outputs": [
    {
     "name": "stdin",
     "output_type": "stream",
     "text": [
      "Enter the weight in kilograms:  90\n",
      "Enter the height in meters:  120\n"
     ]
    },
    {
     "name": "stdout",
     "output_type": "stream",
     "text": [
      "The person's BMI is 0.01, which falls into the category of Underweight.\n"
     ]
    }
   ],
   "source": [
    "# Input the person's weight in kilograms and height in meters\n",
    "weight = float(input(\"Enter the weight in kilograms: \"))\n",
    "height = float(input(\"Enter the height in meters: \"))\n",
    "\n",
    "# Calculate the BMI\n",
    "bmi = weight / (height ** 2)\n",
    "\n",
    "# Categorize the BMI using elif statements\n",
    "if bmi < 18.5:\n",
    "    category = \"Underweight\"\n",
    "elif 18.5 <= bmi < 24.9:\n",
    "    category = \"Normal Weight\"\n",
    "elif 25 <= bmi < 29.9:\n",
    "    category = \"Overweight\"\n",
    "else:\n",
    "    \n",
    "    category = \"Obese\"\n",
    "\n",
    "# Print the BMI category\n",
    "print(f\"The person's BMI is {bmi:.2f}, which falls into the category of {category}.\")\n"
   ]
  },
  {
   "cell_type": "markdown",
   "id": "37726498-0869-45d4-8663-59442958db65",
   "metadata": {},
   "source": [
    "24. Create a program that determines whether a given number is positive, negative, or zero using elif\n",
    "statements."
   ]
  },
  {
   "cell_type": "code",
   "execution_count": 1,
   "id": "9ae34d21-2485-4d10-ad2a-07b5235acf53",
   "metadata": {},
   "outputs": [
    {
     "name": "stdin",
     "output_type": "stream",
     "text": [
      "Enter a number:  9\n"
     ]
    },
    {
     "name": "stdout",
     "output_type": "stream",
     "text": [
      "The number is positive.\n"
     ]
    }
   ],
   "source": [
    "# Input a number from the user\n",
    "number = float(input(\"Enter a number: \"))\n",
    "\n",
    "# Check if the number is positive, negative, or zero\n",
    "if number > 0:\n",
    "    print(\"The number is positive.\")\n",
    "elif number < 0:\n",
    "    print(\"The number is negative.\")\n",
    "else:\n",
    "    print(\"The number is zero.\")\n"
   ]
  },
  {
   "cell_type": "markdown",
   "id": "53505402-c983-4c60-9f4a-b00cf283572d",
   "metadata": {},
   "source": [
    "25. Write a Python script to determine the type of a character (uppercase, lowercase, or special) using elif\n",
    "statements."
   ]
  },
  {
   "cell_type": "code",
   "execution_count": 2,
   "id": "29338bf0-fe45-4acf-a631-eb096d7ef174",
   "metadata": {},
   "outputs": [
    {
     "name": "stdin",
     "output_type": "stream",
     "text": [
      "Enter a character:  D\n"
     ]
    },
    {
     "name": "stdout",
     "output_type": "stream",
     "text": [
      "The character is uppercase.\n"
     ]
    }
   ],
   "source": [
    "# Input a character from the user\n",
    "character = input(\"Enter a character: \")\n",
    "\n",
    "# Check the type of character\n",
    "if character.isupper():\n",
    "    print(\"The character is uppercase.\")\n",
    "elif character.islower():\n",
    "    print(\"The character is lowercase.\")\n",
    "else:\n",
    "    print(\"The character is a special character.\")\n"
   ]
  },
  {
   "cell_type": "markdown",
   "id": "9fd4666d-1ca8-48e4-a21b-17f5dfca40c1",
   "metadata": {},
   "source": [
    "26. Implement a program to calculate the discounted price based on different purchase amounts using elif\n",
    "statements."
   ]
  },
  {
   "cell_type": "code",
   "execution_count": 4,
   "id": "1e598be3-b15e-4d31-b802-6ad76d048ac0",
   "metadata": {},
   "outputs": [
    {
     "name": "stdin",
     "output_type": "stream",
     "text": [
      "Enter the purchase amount:  2000\n"
     ]
    },
    {
     "name": "stdout",
     "output_type": "stream",
     "text": [
      "Original Price: 2000.00\n",
      "Discounted Price: 1800.00\n"
     ]
    }
   ],
   "source": [
    "# Input the purchase amount from the user\n",
    "purchase_amount = float(input(\"Enter the purchase amount: \"))\n",
    "\n",
    "# Define discount rates for different purchase amounts\n",
    "if purchase_amount >= 1000:\n",
    "    discount_rate = 0.10  # 10% discount for purchases >= $1000\n",
    "elif purchase_amount >= 500:\n",
    "    discount_rate = 0.05  # 5% discount for purchases >= $500 and < $1000\n",
    "else:\n",
    "    discount_rate = 0.0   # No discount for purchases < $500\n",
    "\n",
    "# Calculate the discounted price\n",
    "discounted_price = purchase_amount * (1 - discount_rate)\n",
    "\n",
    "# Display the results\n",
    "print(f\"Original Price: {purchase_amount:.2f}\")\n",
    "print(f\"Discounted Price: {discounted_price:.2f}\")\n"
   ]
  },
  {
   "cell_type": "markdown",
   "id": "c0713f76-554b-41d9-bdd8-4b09dd51b3ef",
   "metadata": {},
   "source": [
    "27. Develop a program to calculate the electricity bill based on different consumption slabs using elif\n",
    "statements."
   ]
  },
  {
   "cell_type": "code",
   "execution_count": 6,
   "id": "4966432a-fcce-497f-b0a9-257e97b485ce",
   "metadata": {},
   "outputs": [
    {
     "name": "stdin",
     "output_type": "stream",
     "text": [
      "Enter electricity consumption (kWh):  1000\n"
     ]
    },
    {
     "name": "stdout",
     "output_type": "stream",
     "text": [
      "Electricity Consumption: 1000.0 kWh\n",
      "Electricity Rate: 0.25 per kWh\n",
      "Total Bill: 250.00\n"
     ]
    }
   ],
   "source": [
    "# Input the electricity consumption in kilowatt-hours (kWh) from the user\n",
    "consumption = float(input(\"Enter electricity consumption (kWh): \"))\n",
    "\n",
    "# Define the electricity tariff rates for different consumption slabs\n",
    "if consumption <= 100:\n",
    "    rate = 0.1  # $0.10 per kWh for the first 100 kWh\n",
    "elif consumption <= 200:\n",
    "    rate = 0.15  # $0.15 per kWh for consumption between 101 and 200 kWh\n",
    "elif consumption <= 300:\n",
    "    rate = 0.2  # $0.20 per kWh for consumption between 201 and 300 kWh\n",
    "else:\n",
    "    rate = 0.25  # $0.25 per kWh for consumption above 300 kWh\n",
    "\n",
    "# Calculate the electricity bill\n",
    "bill = consumption * rate\n",
    "\n",
    "# Display the results\n",
    "print(f\"Electricity Consumption: {consumption} kWh\")\n",
    "print(f\"Electricity Rate: {rate:.2f} per kWh\")\n",
    "print(f\"Total Bill: {bill:.2f}\")"
   ]
  },
  {
   "cell_type": "markdown",
   "id": "cb066980-14ae-4074-a33e-fbc97d6bb7e4",
   "metadata": {},
   "source": [
    "28. Create a program to determine the type of quadrilateral based on its angles and sides using elif\n",
    "statements."
   ]
  },
  {
   "cell_type": "code",
   "execution_count": 7,
   "id": "e0eab231-f15d-4cd1-946f-ad0c4597acee",
   "metadata": {},
   "outputs": [
    {
     "name": "stdin",
     "output_type": "stream",
     "text": [
      "Enter the first angle (in degrees):  90\n",
      "Enter the second angle (in degrees):  90\n",
      "Enter the third angle (in degrees):  90\n",
      "Enter the fourth angle (in degrees):  90\n",
      "Enter the length of the first side:  80\n",
      "Enter the length of the second side:  70\n",
      "Enter the length of the third side:  60\n",
      "Enter the length of the fourth side:  50\n"
     ]
    },
    {
     "name": "stdout",
     "output_type": "stream",
     "text": [
      "The quadrilateral is a rectangle.\n"
     ]
    }
   ],
   "source": [
    "# Input the angles and sides of the quadrilateral\n",
    "angle1 = int(input(\"Enter the first angle (in degrees): \"))\n",
    "angle2 = int(input(\"Enter the second angle (in degrees): \"))\n",
    "angle3 = int(input(\"Enter the third angle (in degrees): \"))\n",
    "angle4 = int(input(\"Enter the fourth angle (in degrees): \"))\n",
    "\n",
    "side1 = float(input(\"Enter the length of the first side: \"))\n",
    "side2 = float(input(\"Enter the length of the second side: \"))\n",
    "side3 = float(input(\"Enter the length of the third side: \"))\n",
    "side4 = float(input(\"Enter the length of the fourth side: \"))\n",
    "\n",
    "# Check the type of quadrilateral based on angles and sides\n",
    "if angle1 == angle2 == angle3 == angle4 == 90:\n",
    "    print(\"The quadrilateral is a rectangle.\")\n",
    "elif angle1 == angle2 == angle3 == angle4 != 90:\n",
    "    print(\"The quadrilateral is a rhombus.\")\n",
    "elif angle1 == angle2 and angle3 == angle4:\n",
    "    print(\"The quadrilateral is a parallelogram.\")\n",
    "elif side1 == side2 == side3 == side4:\n",
    "    print(\"The quadrilateral is a square.\")\n",
    "else:\n",
    "    print(\"The quadrilateral is a general quadrilateral.\")\n"
   ]
  },
  {
   "cell_type": "markdown",
   "id": "aab61528-0b7e-4b21-98c5-e673f7a52356",
   "metadata": {},
   "source": [
    "29. Write a Python script to determine the season based on a user-provided month using elif statements."
   ]
  },
  {
   "cell_type": "code",
   "execution_count": 8,
   "id": "0f254160-9ffc-4563-95f5-099d380c8945",
   "metadata": {},
   "outputs": [
    {
     "name": "stdin",
     "output_type": "stream",
     "text": [
      "Enter a month (e.g., January, February, etc.):  March\n"
     ]
    },
    {
     "name": "stdout",
     "output_type": "stream",
     "text": [
      "The season for March is Spring.\n"
     ]
    }
   ],
   "source": [
    "# Input the month from the user\n",
    "month = input(\"Enter a month (e.g., January, February, etc.): \")\n",
    "\n",
    "# Convert the month to lowercase to make it case-insensitive\n",
    "month = month.lower()\n",
    "\n",
    "# Define the seasons and their corresponding months\n",
    "spring_months = [\"march\", \"april\", \"may\"]\n",
    "summer_months = [\"june\", \"july\", \"august\"]\n",
    "fall_months = [\"september\", \"october\", \"november\"]\n",
    "winter_months = [\"december\", \"january\", \"february\"]\n",
    "\n",
    "# Determine the season based on the user-provided month\n",
    "if month in spring_months:\n",
    "    season = \"Spring\"\n",
    "elif month in summer_months:\n",
    "    season = \"Summer\"\n",
    "elif month in fall_months:\n",
    "    season = \"Fall\"\n",
    "elif month in winter_months:\n",
    "    season = \"Winter\"\n",
    "else:\n",
    "    season = \"Invalid month\"\n",
    "\n",
    "# Display the result\n",
    "if season != \"Invalid month\":\n",
    "    print(f\"The season for {month.capitalize()} is {season}.\")\n",
    "else:\n",
    "    print(\"Please enter a valid month.\")\n"
   ]
  },
  {
   "cell_type": "markdown",
   "id": "f32bd4a2-9739-4d32-96c1-7d51d6e3bcbd",
   "metadata": {},
   "source": [
    "30. Implement a program to determine the type of a year (leap or common) and month (30 or 31 days) using\n",
    "elif statements."
   ]
  },
  {
   "cell_type": "code",
   "execution_count": 9,
   "id": "234e42c7-2568-4a32-bab2-3dfc555d362e",
   "metadata": {},
   "outputs": [
    {
     "name": "stdin",
     "output_type": "stream",
     "text": [
      "Enter a year:  2023\n",
      "Enter a month (1-12):  8\n"
     ]
    },
    {
     "name": "stdout",
     "output_type": "stream",
     "text": [
      "2023 is a common year.\n",
      "The month 8 has 31 days.\n"
     ]
    }
   ],
   "source": [
    "# Input the year and month from the user\n",
    "year = int(input(\"Enter a year: \"))\n",
    "month = int(input(\"Enter a month (1-12): \"))\n",
    "\n",
    "# Check if the year is a leap year\n",
    "is_leap_year = (year % 4 == 0 and year % 100 != 0) or (year % 400 == 0)\n",
    "\n",
    "# Use 'elif' statements to determine the month's number of days\n",
    "if month == 2:\n",
    "    if is_leap_year:\n",
    "        days = 29\n",
    "    else:\n",
    "        days = 28\n",
    "elif month in [4, 6, 9, 11]:\n",
    "    days = 30\n",
    "elif month in [1, 3, 5, 7, 8, 10, 12]:\n",
    "    days = 31\n",
    "else:\n",
    "    days = -1  # Invalid month input\n",
    "\n",
    "# Display the results\n",
    "if days != -1:\n",
    "    print(f\"{year} is a {'leap' if is_leap_year else 'common'} year.\")\n",
    "    print(f\"The month {month} has {days} days.\")\n",
    "else:\n",
    "    print(\"Invalid month input. Please enter a number between 1 and 12.\")\n"
   ]
  },
  {
   "cell_type": "markdown",
   "id": "62b9f01d-8916-4043-8827-7f695104a49b",
   "metadata": {},
   "source": [
    "1. Write a Python program that checks if a given number is positive, negative, or zero."
   ]
  },
  {
   "cell_type": "code",
   "execution_count": 10,
   "id": "34a61d49-88a8-40ba-bb37-4d7bb7bdb84c",
   "metadata": {},
   "outputs": [
    {
     "name": "stdin",
     "output_type": "stream",
     "text": [
      "Enter a number:  -90\n"
     ]
    },
    {
     "name": "stdout",
     "output_type": "stream",
     "text": [
      "The number is negative.\n"
     ]
    }
   ],
   "source": [
    "# Input a number from the user\n",
    "number = float(input(\"Enter a number: \"))\n",
    "\n",
    "# Check if the number is positive, negative, or zero\n",
    "if number > 0:\n",
    "    print(\"The number is positive.\")\n",
    "elif number < 0:\n",
    "    print(\"The number is negative.\")\n",
    "else:\n",
    "    print(\"The number is zero.\")\n"
   ]
  },
  {
   "cell_type": "markdown",
   "id": "5677b20f-596f-4730-a60d-919c856f004f",
   "metadata": {},
   "source": [
    "2. Create a program to determine if a person is eligible to vote based on their age."
   ]
  },
  {
   "cell_type": "code",
   "execution_count": 12,
   "id": "9cd4e636-f744-4c53-854e-3f7e2f06319d",
   "metadata": {},
   "outputs": [
    {
     "name": "stdin",
     "output_type": "stream",
     "text": [
      "Enter your age:  30\n"
     ]
    },
    {
     "name": "stdout",
     "output_type": "stream",
     "text": [
      "You are eligible to vote.\n"
     ]
    }
   ],
   "source": [
    "# Input the person's age\n",
    "age = int(input(\"Enter your age: \"))\n",
    "\n",
    "# Check if the person is eligible to vote\n",
    "if age >= 18:\n",
    "    print(\"You are eligible to vote.\")\n",
    "else:\n",
    "    print(\"You are not eligible to vote.\")\n"
   ]
  },
  {
   "cell_type": "markdown",
   "id": "78558a7d-8075-4789-9ab3-fb387f953b94",
   "metadata": {},
   "source": [
    "3. Write a program to find the maximum of two given numbers using conditional statements."
   ]
  },
  {
   "cell_type": "code",
   "execution_count": 18,
   "id": "e931fd62-c60f-476a-816c-73792cdae96a",
   "metadata": {},
   "outputs": [
    {
     "name": "stdin",
     "output_type": "stream",
     "text": [
      "Enter the first number:  300\n",
      "Enter the second number:  600\n"
     ]
    },
    {
     "name": "stdout",
     "output_type": "stream",
     "text": [
      "The maximum is : 600.0.\n"
     ]
    }
   ],
   "source": [
    "# Input two numbers from the user\n",
    "number1 = float(input(\"Enter the first number: \"))\n",
    "number2 = float(input(\"Enter the second number: \"))\n",
    "\n",
    "# Find the maximum of the two numbers using a conditional statement\n",
    "if number1 > number2:\n",
    "    maximum = number1\n",
    "else:\n",
    "    maximum = number2\n",
    "\n",
    "# Display the maximum number\n",
    "print(f\"The maximum is : {maximum}.\")\n"
   ]
  },
  {
   "cell_type": "markdown",
   "id": "079d1d5c-3645-4144-84b3-8d66dd2bdbf9",
   "metadata": {},
   "source": [
    "4. Develop a program that calculates the grade of a student based on their exam score."
   ]
  },
  {
   "cell_type": "code",
   "execution_count": 39,
   "id": "826fc30f-c604-4f6d-a4f6-e2ea7a3bd9fc",
   "metadata": {},
   "outputs": [
    {
     "name": "stdin",
     "output_type": "stream",
     "text": [
      "Enter the marks for the student :  70\n"
     ]
    },
    {
     "name": "stdout",
     "output_type": "stream",
     "text": [
      "First Class\n"
     ]
    }
   ],
   "source": [
    "score = int(input(\"Enter the marks for the student : \"));\n",
    "if score >= 90:\n",
    "    print(\"Distinction\")\n",
    "elif score >= 70:\n",
    "    print(\"First Class\")\n",
    "elif score >= 60:\n",
    "    print(\"Second class\")\n",
    "elif score >= 50:\n",
    "    print(\"Third class\")\n",
    "elif score >= 35:\n",
    "    print(\"Pass\")\n",
    "else:\n",
    "    print(\"Fail\");\n",
    "        "
   ]
  },
  {
   "cell_type": "markdown",
   "id": "929f474e-429f-42fc-b8fa-f5c37a7ffd9c",
   "metadata": {},
   "source": [
    "5. Create a program that checks if a year is a leap year or not."
   ]
  },
  {
   "cell_type": "code",
   "execution_count": 40,
   "id": "21d5bcba-9402-498f-b883-e482ac93d11d",
   "metadata": {},
   "outputs": [
    {
     "name": "stdin",
     "output_type": "stream",
     "text": [
      "Enter a year:  2023\n"
     ]
    },
    {
     "name": "stdout",
     "output_type": "stream",
     "text": [
      "2023 is not a leap year.\n"
     ]
    }
   ],
   "source": [
    "# Input a year from the user\n",
    "year = int(input(\"Enter a year: \"))\n",
    "\n",
    "# Check if it's a leap year\n",
    "if (year % 4 == 0 and year % 100 != 0) or (year % 400 == 0):\n",
    "    print(f\"{year} is a leap year.\")\n",
    "else:\n",
    "    print(f\"{year} is not a leap year.\")\n"
   ]
  },
  {
   "cell_type": "markdown",
   "id": "a85a97f9-5066-4001-bf35-2b223652dfe3",
   "metadata": {},
   "source": [
    "6. Write a program to classify a triangle based on its sides' lengths."
   ]
  },
  {
   "cell_type": "code",
   "execution_count": 42,
   "id": "ab1e8eb3-1bea-489a-b64d-abd80ca1a2c4",
   "metadata": {},
   "outputs": [
    {
     "name": "stdin",
     "output_type": "stream",
     "text": [
      "Enter the length of the first side:  30\n",
      "Enter the length of the second side:  30\n",
      "Enter the length of the third side:  30\n"
     ]
    },
    {
     "name": "stdout",
     "output_type": "stream",
     "text": [
      "The triangle with side lengths 30.0, 30.0, and 30.0 is a equilateral triangle.\n"
     ]
    }
   ],
   "source": [
    "# Input the lengths of the three sides of the triangle\n",
    "side1 = float(input(\"Enter the length of the first side: \"))\n",
    "side2 = float(input(\"Enter the length of the second side: \"))\n",
    "side3 = float(input(\"Enter the length of the third side: \"))\n",
    "\n",
    "# Check the type of triangle based on side lengths\n",
    "if side1 == side2 == side3:\n",
    "    triangle_type = \"equilateral\"\n",
    "elif side1 == side2 or side1 == side3 or side2 == side3:\n",
    "    triangle_type = \"isosceles\"\n",
    "else:\n",
    "    triangle_type = \"scalene\"\n",
    "\n",
    "# Display the result\n",
    "print(f\"The triangle with side lengths {side1}, {side2}, and {side3} is a {triangle_type} triangle.\")\n"
   ]
  },
  {
   "cell_type": "markdown",
   "id": "4baaa6e1-7796-4383-92e1-d196224ed3de",
   "metadata": {},
   "source": [
    "7. Build a program that determines the largest of three given numbers."
   ]
  },
  {
   "cell_type": "code",
   "execution_count": 44,
   "id": "fae37f7c-c519-412e-a142-a9eb07a1cac2",
   "metadata": {},
   "outputs": [
    {
     "name": "stdin",
     "output_type": "stream",
     "text": [
      "Enter the first number:  200\n",
      "Enter the second number:  600\n",
      "Enter the third number:  1000\n"
     ]
    },
    {
     "name": "stdout",
     "output_type": "stream",
     "text": [
      "The largest is : 1000.0.\n"
     ]
    }
   ],
   "source": [
    "# Input three numbers from the user\n",
    "number1 = float(input(\"Enter the first number: \"))\n",
    "number2 = float(input(\"Enter the second number: \"))\n",
    "number3 = float(input(\"Enter the third number: \"))\n",
    "\n",
    "# Find the largest number using conditional statements\n",
    "if number1 >= number2 and number1 >= number3:\n",
    "    largest = number1\n",
    "elif number2 >= number1 and number2 >= number3:\n",
    "    largest = number2\n",
    "else:\n",
    "    largest = number3\n",
    "\n",
    "# Display the largest number\n",
    "print(f\"The largest is : {largest}.\")\n"
   ]
  },
  {
   "cell_type": "markdown",
   "id": "34225760-f458-4994-b9c3-2d939d972d84",
   "metadata": {},
   "source": [
    "8. Develop a program that checks whether a character is a vowel or a consonant."
   ]
  },
  {
   "cell_type": "code",
   "execution_count": 45,
   "id": "64fb71e7-a16e-4c01-9f29-dd82b9a91b20",
   "metadata": {},
   "outputs": [
    {
     "name": "stdin",
     "output_type": "stream",
     "text": [
      "Enter a character:  A\n"
     ]
    },
    {
     "name": "stdout",
     "output_type": "stream",
     "text": [
      "a is a vowel.\n"
     ]
    }
   ],
   "source": [
    "# Input a character from the user (assuming single character input)\n",
    "character = input(\"Enter a character: \")\n",
    "\n",
    "# Ensure that the input is a single character\n",
    "if len(character) == 1:\n",
    "    # Convert the character to lowercase for case-insensitive checking\n",
    "    character = character.lower()\n",
    "\n",
    "    # Check if the character is a vowel\n",
    "    if character in \"aeiou\":\n",
    "        print(f\"{character} is a vowel.\")\n",
    "    else:\n",
    "        print(f\"{character} is a consonant.\")\n",
    "else:\n",
    "    print(\"Please enter a single character.\")\n"
   ]
  },
  {
   "cell_type": "markdown",
   "id": "6e70bf21-e8cd-44fe-ae14-890130af63ff",
   "metadata": {},
   "source": [
    "9. Create a program to calculate the total cost of a shopping cart based on discounts."
   ]
  },
  {
   "cell_type": "code",
   "execution_count": 46,
   "id": "3ccc3bbd-7fa2-415d-bef3-f3e6077ac85c",
   "metadata": {},
   "outputs": [
    {
     "name": "stdout",
     "output_type": "stream",
     "text": [
      "Items in the cart:\n",
      "item1: $10.00\n",
      "item2: $15.00\n",
      "item3: $20.00\n",
      "item4: $25.00\n",
      "Total Cost: $63.00\n"
     ]
    }
   ],
   "source": [
    "# Define the items in the shopping cart with their prices\n",
    "cart = {\n",
    "    \"item1\": 10.0,\n",
    "    \"item2\": 15.0,\n",
    "    \"item3\": 20.0,\n",
    "    \"item4\": 25.0,\n",
    "}\n",
    "\n",
    "# Define discount rules (e.g., 10% off for total purchase over $50)\n",
    "discount_percentage = 10\n",
    "minimum_purchase_amount = 50.0\n",
    "\n",
    "# Calculate the total cost of the items in the cart\n",
    "total_cost = sum(cart.values())\n",
    "\n",
    "# Apply discounts based on the rules\n",
    "if total_cost >= minimum_purchase_amount:\n",
    "    discount_amount = (discount_percentage / 100) * total_cost\n",
    "    total_cost -= discount_amount\n",
    "\n",
    "# Display the results\n",
    "print(\"Items in the cart:\")\n",
    "for item, price in cart.items():\n",
    "    print(f\"{item}: ${price:.2f}\")\n",
    "print(f\"Total Cost: ${total_cost:.2f}\")\n"
   ]
  },
  {
   "cell_type": "markdown",
   "id": "7be5eeda-95af-4503-8973-51533672fbbc",
   "metadata": {},
   "source": [
    "10. Write a program that checks if a given number is even or odd."
   ]
  },
  {
   "cell_type": "code",
   "execution_count": 47,
   "id": "0bbf2697-8d75-4682-8142-eb0afb375da3",
   "metadata": {},
   "outputs": [
    {
     "name": "stdin",
     "output_type": "stream",
     "text": [
      "Enter a number:  30\n"
     ]
    },
    {
     "name": "stdout",
     "output_type": "stream",
     "text": [
      "30 is even.\n"
     ]
    }
   ],
   "source": [
    "# Input a number from the user\n",
    "number = int(input(\"Enter a number: \"))\n",
    "\n",
    "# Check if the number is even or odd\n",
    "if number % 2 == 0:\n",
    "    print(f\"{number} is even.\")\n",
    "else:\n",
    "    print(f\"{number} is odd.\")\n"
   ]
  },
  {
   "cell_type": "markdown",
   "id": "568b93a7-919a-49c7-a25f-6ee75697dd3e",
   "metadata": {},
   "source": [
    "11. Write a program that calculates the roots of a quadratic equation ."
   ]
  },
  {
   "cell_type": "code",
   "execution_count": 48,
   "id": "9db7dc44-3afc-4ec4-82bd-55e3333a6a0f",
   "metadata": {},
   "outputs": [
    {
     "name": "stdin",
     "output_type": "stream",
     "text": [
      "Enter the coefficient a:  40\n",
      "Enter the coefficient b:  50\n",
      "Enter the coefficient c:  60\n"
     ]
    },
    {
     "name": "stdout",
     "output_type": "stream",
     "text": [
      "The roots are complex: -0.625 + 1.0532687216470449i and -0.625 - 1.0532687216470449i\n"
     ]
    }
   ],
   "source": [
    "import math\n",
    "\n",
    "# Input the coefficients of the quadratic equation\n",
    "a = float(input(\"Enter the coefficient a: \"))\n",
    "b = float(input(\"Enter the coefficient b: \"))\n",
    "c = float(input(\"Enter the coefficient c: \"))\n",
    "\n",
    "# Calculate the discriminant (the value inside the square root)\n",
    "discriminant = b**2 - 4*a*c\n",
    "\n",
    "# Check if the discriminant is positive, negative, or zero\n",
    "if discriminant > 0:\n",
    "    root1 = (-b + math.sqrt(discriminant)) / (2*a)\n",
    "    root2 = (-b - math.sqrt(discriminant)) / (2*a)\n",
    "    print(f\"The roots are real and distinct: {root1} and {root2}\")\n",
    "elif discriminant == 0:\n",
    "    root = -b / (2*a)\n",
    "    print(f\"The root is real and equal: {root}\")\n",
    "else:\n",
    "    real_part = -b / (2*a)\n",
    "    imaginary_part = math.sqrt(-discriminant) / (2*a)\n",
    "    print(f\"The roots are complex: {real_part} + {imaginary_part}i and {real_part} - {imaginary_part}i\")\n"
   ]
  },
  {
   "cell_type": "markdown",
   "id": "f5b564c4-5a01-495a-b38a-a33852362461",
   "metadata": {},
   "source": [
    "12. Create a program that determines the day of the week based on the day number (1-7)."
   ]
  },
  {
   "cell_type": "code",
   "execution_count": 50,
   "id": "224e7802-38fe-4448-ac95-8b783a7dda84",
   "metadata": {},
   "outputs": [
    {
     "name": "stdin",
     "output_type": "stream",
     "text": [
      "Enter a number (1-7) for the day of the week:  7\n"
     ]
    },
    {
     "name": "stdout",
     "output_type": "stream",
     "text": [
      "The day corresponding to 7 is Sunday.\n"
     ]
    }
   ],
   "source": [
    "# Input a number for the day of the week\n",
    "day_number = int(input(\"Enter a number (1-7) for the day of the week: \"))\n",
    "\n",
    "# Determine the day of the week\n",
    "if day_number == 1:\n",
    "    day_name = \"Monday\"\n",
    "elif day_number == 2:\n",
    "    day_name = \"Tuesday\"\n",
    "elif day_number == 3:\n",
    "    day_name = \"Wednesday\"\n",
    "elif day_number == 4:\n",
    "    day_name = \"Thursday\"\n",
    "elif day_number == 5:\n",
    "    day_name = \"Friday\"\n",
    "elif day_number == 6:\n",
    "    day_name = \"Saturday\"\n",
    "elif day_number == 7:\n",
    "    day_name = \"Sunday\"\n",
    "else:\n",
    "    day_name = \"Invalid\"\n",
    "\n",
    "# Print the day of the week\n",
    "if day_name == \"Invalid\":\n",
    "    print(\"Invalid input. Please enter a number from 1 to 7.\")\n",
    "else:\n",
    "    print(f\"The day corresponding to {day_number} is {day_name}.\")"
   ]
  },
  {
   "cell_type": "markdown",
   "id": "07c31ee9-4637-4791-91e1-b442d6c248c8",
   "metadata": {},
   "source": [
    "13. Develop a program that calculates the factorial of a given number using recursion."
   ]
  },
  {
   "cell_type": "code",
   "execution_count": 51,
   "id": "f3dec568-7d81-458c-ae16-550c464ae2b5",
   "metadata": {},
   "outputs": [
    {
     "name": "stdin",
     "output_type": "stream",
     "text": [
      "Enter a non-negative integer:  7\n"
     ]
    },
    {
     "name": "stdout",
     "output_type": "stream",
     "text": [
      "The factorial of 7 is 5040.\n"
     ]
    }
   ],
   "source": [
    "def factorial(n):\n",
    "    if n == 0:\n",
    "        return 1\n",
    "    else:\n",
    "        return n * factorial(n - 1)\n",
    "\n",
    "# Input a number from the user\n",
    "number = int(input(\"Enter a non-negative integer: \"))\n",
    "\n",
    "if number < 0:\n",
    "    print(\"Please enter a non-negative integer.\")\n",
    "else:\n",
    "    result = factorial(number)\n",
    "    print(f\"The factorial of {number} is {result}.\")\n"
   ]
  },
  {
   "cell_type": "markdown",
   "id": "de285eec-3a45-44f0-8a86-966a52d7e996",
   "metadata": {},
   "source": [
    "14. Write a program to find the largest among three numbers without using the `max()` function."
   ]
  },
  {
   "cell_type": "code",
   "execution_count": 53,
   "id": "2313a761-3fd9-4880-b9d9-c83c30b903b1",
   "metadata": {},
   "outputs": [
    {
     "name": "stdin",
     "output_type": "stream",
     "text": [
      "Enter the first number:  200\n",
      "Enter the second number:  300\n",
      "Enter the third number:  400\n"
     ]
    },
    {
     "name": "stdout",
     "output_type": "stream",
     "text": [
      "The largest number among is :  400.0.\n"
     ]
    }
   ],
   "source": [
    "# Input three numbers from the user\n",
    "number1 = float(input(\"Enter the first number: \"))\n",
    "number2 = float(input(\"Enter the second number: \"))\n",
    "number3 = float(input(\"Enter the third number: \"))\n",
    "\n",
    "# Initialize a variable to store the largest number\n",
    "largest = number1\n",
    "\n",
    "# Check if number2 is larger than the current largest\n",
    "if number2 > largest:\n",
    "    largest = number2\n",
    "\n",
    "# Check if number3 is larger than the current largest\n",
    "if number3 > largest:\n",
    "    largest = number3\n",
    "\n",
    "# Display the largest number\n",
    "print(f\"The largest number among is :  {largest}.\")\n"
   ]
  },
  {
   "cell_type": "markdown",
   "id": "10535362-29f5-46f2-abd6-ec559efd8bfa",
   "metadata": {},
   "source": [
    "15. Create a program that simulates a basic ATM transaction menu."
   ]
  },
  {
   "cell_type": "code",
   "execution_count": 54,
   "id": "e114f1cc-a883-452a-a2d5-621701add716",
   "metadata": {},
   "outputs": [
    {
     "name": "stdout",
     "output_type": "stream",
     "text": [
      "ATM Menu:\n",
      "1. Check Balance\n",
      "2. Deposit\n",
      "3. Withdraw\n",
      "4. Exit\n"
     ]
    },
    {
     "name": "stdin",
     "output_type": "stream",
     "text": [
      "Enter your choice (1/2/3/4):  2\n",
      "Enter the deposit amount:  200\n"
     ]
    },
    {
     "name": "stdout",
     "output_type": "stream",
     "text": [
      "Deposited $200.00. Your new balance is $1200.00\n",
      "ATM Menu:\n",
      "1. Check Balance\n",
      "2. Deposit\n",
      "3. Withdraw\n",
      "4. Exit\n"
     ]
    },
    {
     "name": "stdin",
     "output_type": "stream",
     "text": [
      "Enter your choice (1/2/3/4):  1\n"
     ]
    },
    {
     "name": "stdout",
     "output_type": "stream",
     "text": [
      "Your balance is $1200.00\n",
      "ATM Menu:\n",
      "1. Check Balance\n",
      "2. Deposit\n",
      "3. Withdraw\n",
      "4. Exit\n"
     ]
    },
    {
     "name": "stdin",
     "output_type": "stream",
     "text": [
      "Enter your choice (1/2/3/4):  3\n",
      "Enter the withdrawal amount:  200\n"
     ]
    },
    {
     "name": "stdout",
     "output_type": "stream",
     "text": [
      "Withdrew $200.00. Your new balance is $1000.00\n",
      "ATM Menu:\n",
      "1. Check Balance\n",
      "2. Deposit\n",
      "3. Withdraw\n",
      "4. Exit\n"
     ]
    },
    {
     "name": "stdin",
     "output_type": "stream",
     "text": [
      "Enter your choice (1/2/3/4):  1\n"
     ]
    },
    {
     "name": "stdout",
     "output_type": "stream",
     "text": [
      "Your balance is $1000.00\n",
      "ATM Menu:\n",
      "1. Check Balance\n",
      "2. Deposit\n",
      "3. Withdraw\n",
      "4. Exit\n"
     ]
    },
    {
     "name": "stdin",
     "output_type": "stream",
     "text": [
      "Enter your choice (1/2/3/4):  4\n"
     ]
    },
    {
     "name": "stdout",
     "output_type": "stream",
     "text": [
      "Thank you for using the ATM. Goodbye!\n"
     ]
    }
   ],
   "source": [
    "# Initialize the account balance\n",
    "balance = 1000.0\n",
    "\n",
    "while True:\n",
    "    print(\"ATM Menu:\")\n",
    "    print(\"1. Check Balance\")\n",
    "    print(\"2. Deposit\")\n",
    "    print(\"3. Withdraw\")\n",
    "    print(\"4. Exit\")\n",
    "    \n",
    "    choice = input(\"Enter your choice (1/2/3/4): \")\n",
    "\n",
    "    if choice == \"1\":\n",
    "        print(f\"Your balance is ${balance:.2f}\")\n",
    "    elif choice == \"2\":\n",
    "        amount = float(input(\"Enter the deposit amount: \"))\n",
    "        balance += amount\n",
    "        print(f\"Deposited ${amount:.2f}. Your new balance is ${balance:.2f}\")\n",
    "    elif choice == \"3\":\n",
    "        amount = float(input(\"Enter the withdrawal amount: \"))\n",
    "        if amount <= balance:\n",
    "            balance -= amount\n",
    "            print(f\"Withdrew ${amount:.2f}. Your new balance is ${balance:.2f}\")\n",
    "        else:\n",
    "            print(\"Insufficient funds.\")\n",
    "    elif choice == \"4\":\n",
    "        print(\"Thank you for using the ATM. Goodbye!\")\n",
    "        break\n",
    "    else:\n",
    "        print(\"Invalid choice. Please select a valid option (1/2/3/4).\")\n"
   ]
  },
  {
   "cell_type": "markdown",
   "id": "49bae8ad-1d95-4002-be98-6a992fb874ea",
   "metadata": {},
   "source": [
    "16. Build a program that checks if a given string is a palindrome or not."
   ]
  },
  {
   "cell_type": "code",
   "execution_count": 56,
   "id": "69829202-99fe-4671-b35e-be6b5a720fb9",
   "metadata": {},
   "outputs": [
    {
     "name": "stdin",
     "output_type": "stream",
     "text": [
      "Enter a string:  madam\n"
     ]
    },
    {
     "name": "stdout",
     "output_type": "stream",
     "text": [
      "'madam' is a palindrome.\n"
     ]
    }
   ],
   "source": [
    "# Input a string from the user\n",
    "text = input(\"Enter a string: \")\n",
    "\n",
    "# Remove spaces and convert the string to lowercase for case-insensitive comparison\n",
    "cleaned_text = text.replace(\" \", \"\").lower()\n",
    "\n",
    "# Check if the cleaned string is a palindrome\n",
    "if cleaned_text == cleaned_text[::-1]:\n",
    "    print(f\"'{text}' is a palindrome.\")\n",
    "else:\n",
    "    print(f\"'{text}' is not a palindrome.\")\n"
   ]
  },
  {
   "cell_type": "markdown",
   "id": "822442d6-5b5d-4456-86a2-e8b07bc8af86",
   "metadata": {},
   "source": [
    "17. Write a program that calculates the average of a list of numbers, excluding the smallest and largest values."
   ]
  },
  {
   "cell_type": "code",
   "execution_count": 57,
   "id": "aeea18af-7420-42e0-8732-daa50cb63c3e",
   "metadata": {},
   "outputs": [
    {
     "name": "stdin",
     "output_type": "stream",
     "text": [
      "Enter a list of numbers separated by spaces:  2 4 5\n"
     ]
    },
    {
     "name": "stdout",
     "output_type": "stream",
     "text": [
      "The average (excluding the smallest and largest values) is 4.00\n"
     ]
    }
   ],
   "source": [
    "# Input a list of numbers from the user\n",
    "numbers = input(\"Enter a list of numbers separated by spaces: \").split()\n",
    "\n",
    "# Convert the input values to floats\n",
    "numbers = [float(num) for num in numbers]\n",
    "\n",
    "# Check if the list has at least 3 elements\n",
    "if len(numbers) < 3:\n",
    "    print(\"Please enter at least three numbers.\")\n",
    "else:\n",
    "    # Remove the smallest and largest values from the list\n",
    "    numbers.remove(min(numbers))\n",
    "    numbers.remove(max(numbers))\n",
    "\n",
    "    # Calculate the average of the remaining numbers\n",
    "    average = sum(numbers) / len(numbers)\n",
    "\n",
    "    # Display the average\n",
    "    print(f\"The average (excluding the smallest and largest values) is {average:.2f}\")\n"
   ]
  },
  {
   "cell_type": "markdown",
   "id": "9e752615-1dfb-4395-b460-6adc7261fefe",
   "metadata": {},
   "source": [
    "18. Develop a program that converts a given temperature from Celsius to Fahrenheit."
   ]
  },
  {
   "cell_type": "code",
   "execution_count": 58,
   "id": "c760fb66-0fde-4f70-9982-09996e75af47",
   "metadata": {},
   "outputs": [
    {
     "name": "stdin",
     "output_type": "stream",
     "text": [
      "Enter temperature in Celsius:  33\n"
     ]
    },
    {
     "name": "stdout",
     "output_type": "stream",
     "text": [
      "33.00 degrees Celsius is equal to 91.40 degrees Fahrenheit.\n"
     ]
    }
   ],
   "source": [
    "# Input temperature in Celsius from the user\n",
    "celsius = float(input(\"Enter temperature in Celsius: \"))\n",
    "\n",
    "# Convert Celsius to Fahrenheit\n",
    "fahrenheit = (celsius * 9/5) + 32\n",
    "\n",
    "# Display the converted temperature in Fahrenheit\n",
    "print(f\"{celsius:.2f} degrees Celsius is equal to {fahrenheit:.2f} degrees Fahrenheit.\")\n"
   ]
  },
  {
   "cell_type": "markdown",
   "id": "74134e92-5b29-454c-8917-0ae0ac8c5c50",
   "metadata": {},
   "source": [
    "19. Create a program that simulates a basic calculator for addition, subtraction, multiplication, and division."
   ]
  },
  {
   "cell_type": "code",
   "execution_count": 59,
   "id": "106e6ea4-376f-4f34-a25b-17bfa727a19a",
   "metadata": {},
   "outputs": [
    {
     "name": "stdout",
     "output_type": "stream",
     "text": [
      "Select operation:\n",
      "1. Addition\n",
      "2. Subtraction\n",
      "3. Multiplication\n",
      "4. Division\n"
     ]
    },
    {
     "name": "stdin",
     "output_type": "stream",
     "text": [
      "Enter choice (1/2/3/4):  1\n",
      "Enter first number:  2\n",
      "Enter second number:  3\n"
     ]
    },
    {
     "name": "stdout",
     "output_type": "stream",
     "text": [
      "Result of addition: 5.0\n"
     ]
    }
   ],
   "source": [
    "# Define functions for each operation\n",
    "def add(x, y):\n",
    "    return x + y\n",
    "\n",
    "def subtract(x, y):\n",
    "    return x - y\n",
    "\n",
    "def multiply(x, y):\n",
    "    return x * y\n",
    "\n",
    "def divide(x, y):\n",
    "    if y == 0:\n",
    "        return \"Division by zero is not allowed.\"\n",
    "    return x / y\n",
    "\n",
    "# Display the calculator menu\n",
    "print(\"Select operation:\")\n",
    "print(\"1. Addition\")\n",
    "print(\"2. Subtraction\")\n",
    "print(\"3. Multiplication\")\n",
    "print(\"4. Division\")\n",
    "\n",
    "# Input choice and numbers from the user\n",
    "choice = input(\"Enter choice (1/2/3/4): \")\n",
    "\n",
    "if choice in (\"1\", \"2\", \"3\", \"4\"):\n",
    "    num1 = float(input(\"Enter first number: \"))\n",
    "    num2 = float(input(\"Enter second number: \"))\n",
    "\n",
    "    if choice == \"1\":\n",
    "        result = add(num1, num2)\n",
    "        operation = \"addition\"\n",
    "    elif choice == \"2\":\n",
    "        result = subtract(num1, num2)\n",
    "        operation = \"subtraction\"\n",
    "    elif choice == \"3\":\n",
    "        result = multiply(num1, num2)\n",
    "        operation = \"multiplication\"\n",
    "    elif choice == \"4\":\n",
    "        result = divide(num1, num2)\n",
    "        operation = \"division\"\n",
    "\n",
    "    print(f\"Result of {operation}: {result}\")\n",
    "else:\n",
    "    print(\"Invalid input. Please select a valid operation (1/2/3/4).\")\n"
   ]
  },
  {
   "cell_type": "markdown",
   "id": "0603da5a-8723-4aaa-b8da-23877d417ab6",
   "metadata": {},
   "source": [
    "20. Write a program that determines the roots of a cubic equation using the Cardano formula."
   ]
  },
  {
   "cell_type": "code",
   "execution_count": 65,
   "id": "5aec96b0-f78b-483f-a6ff-c78ab5964afb",
   "metadata": {},
   "outputs": [
    {
     "name": "stdin",
     "output_type": "stream",
     "text": [
      "Enter the coefficient a:  4\n",
      "Enter the coefficient b:  5\n",
      "Enter the coefficient c:  6\n",
      "Enter the coefficient d:  7\n"
     ]
    },
    {
     "name": "stdout",
     "output_type": "stream",
     "text": [
      "The roots of the cubic equation are: 0.43+0.94j, -1.05-1.29j, and -0.63+0.35j\n"
     ]
    }
   ],
   "source": [
    "import math\n",
    "\n",
    "# Function to calculate the roots of a cubic equation using the Cardano formula\n",
    "def cubic_roots(a, b, c, d):\n",
    "    # Calculate some intermediate values\n",
    "    p = (3 * a * c - b**2) / (3 * a**2)\n",
    "    q = (2 * b**3 - 9 * a * b * c + 27 * a**2 * d) / (27 * a**3)\n",
    "    delta = q**2 / 4 + p**3 / 27\n",
    "\n",
    "    # Check if the discriminant is positive or zero\n",
    "    if delta >= 0:\n",
    "        # Three real roots\n",
    "        delta_sqrt = math.sqrt(delta)\n",
    "        u1 = (-q / 2 + delta_sqrt) ** (1/3)\n",
    "        u2 = (-q / 2 - delta_sqrt) ** (1/3)\n",
    "        root1 = u1 + u2 - b / (3 * a)\n",
    "        root2 = -(u1 + u2) / 2 - b / (3 * a) + (u1 - u2) * math.sqrt(3) / 2\n",
    "        root3 = -(u1 + u2) / 2 - b / (3 * a) - (u1 - u2) * math.sqrt(3) / 2\n",
    "        return root1, root2, root3\n",
    "    else:\n",
    "        # One real root and two complex roots\n",
    "        phi = math.acos(-q / 2 * math.sqrt(-27 / p**3))\n",
    "        root1 = 2 * math.sqrt(-p / 3) * math.cos(phi / 3) - b / (3 * a)\n",
    "        return root1\n",
    "\n",
    "# Input coefficients of the cubic equation\n",
    "a = float(input(\"Enter the coefficient a: \"))\n",
    "b = float(input(\"Enter the coefficient b: \"))\n",
    "c = float(input(\"Enter the coefficient c: \"))\n",
    "d = float(input(\"Enter the coefficient d: \"))\n",
    "\n",
    "# Calculate and display the roots\n",
    "roots = cubic_roots(a, b, c, d)\n",
    "if isinstance(roots, tuple):\n",
    "    print(f\"The roots of the cubic equation are: {roots[0]:.2f}, {roots[1]:.2f}, and {roots[2]:.2f}\")\n",
    "else:\n",
    "    print(f\"The root of the cubic equation is: {roots:.2f}\")\n"
   ]
  },
  {
   "cell_type": "markdown",
   "id": "fe888c11-e04e-42a1-bf0b-0952fe0393e7",
   "metadata": {},
   "source": [
    "21. Create a program that calculates the income tax based on the user's income and tax brackets."
   ]
  },
  {
   "cell_type": "code",
   "execution_count": 66,
   "id": "934f7306-4b18-45aa-8f6c-ba2c948041b2",
   "metadata": {},
   "outputs": [
    {
     "name": "stdin",
     "output_type": "stream",
     "text": [
      "Enter your income:  40000\n"
     ]
    },
    {
     "name": "stdout",
     "output_type": "stream",
     "text": [
      "Your income tax amount is:  2999.90\n"
     ]
    }
   ],
   "source": [
    "# Define the tax brackets and rates\n",
    "tax_brackets = [(0, 10000), (10001, 40000), (40001, 80000), (80001, float('inf'))]\n",
    "tax_rates = [0.0, 0.1, 0.2, 0.3]\n",
    "\n",
    "# Input the user's income\n",
    "income = float(input(\"Enter your income: \"))\n",
    "\n",
    "# Initialize the tax amount\n",
    "tax_amount = 0.0\n",
    "\n",
    "# Calculate the tax based on income and tax brackets\n",
    "for i, (min_income, max_income) in enumerate(tax_brackets):\n",
    "    if income <= min_income:\n",
    "        break\n",
    "    taxable_income = min(max_income, income) - min_income\n",
    "    tax_amount += taxable_income * tax_rates[i]\n",
    "\n",
    "# Display the calculated tax amount\n",
    "print(f\"Your income tax amount is:  {tax_amount:.2f}\")\n"
   ]
  },
  {
   "cell_type": "markdown",
   "id": "6f2947e5-f357-43d3-99b1-45bfc5e1f6cb",
   "metadata": {},
   "source": [
    "22. Write a program that simulates a rock-paper-scissors game against the computer."
   ]
  },
  {
   "cell_type": "code",
   "execution_count": 67,
   "id": "c80bb347-fd72-40ce-b907-4782e0dd482a",
   "metadata": {},
   "outputs": [
    {
     "name": "stdin",
     "output_type": "stream",
     "text": [
      "Enter your choice (rock, paper, scissors):  rock\n"
     ]
    },
    {
     "name": "stdout",
     "output_type": "stream",
     "text": [
      "You chose: rock\n",
      "Computer chose: paper\n",
      "Computer wins!\n"
     ]
    },
    {
     "name": "stdin",
     "output_type": "stream",
     "text": [
      "Do you want to play again? (yes/no):  yes\n",
      "Enter your choice (rock, paper, scissors):  paper\n"
     ]
    },
    {
     "name": "stdout",
     "output_type": "stream",
     "text": [
      "You chose: paper\n",
      "Computer chose: scissors\n",
      "Computer wins!\n"
     ]
    },
    {
     "name": "stdin",
     "output_type": "stream",
     "text": [
      "Do you want to play again? (yes/no):  yes\n",
      "Enter your choice (rock, paper, scissors):  scissors\n"
     ]
    },
    {
     "name": "stdout",
     "output_type": "stream",
     "text": [
      "You chose: scissors\n",
      "Computer chose: paper\n",
      "You win!\n"
     ]
    },
    {
     "name": "stdin",
     "output_type": "stream",
     "text": [
      "Do you want to play again? (yes/no):  no\n"
     ]
    },
    {
     "name": "stdout",
     "output_type": "stream",
     "text": [
      "Thanks for playing!\n"
     ]
    }
   ],
   "source": [
    "import random\n",
    "\n",
    "# Define the choices for the game\n",
    "choices = [\"rock\", \"paper\", \"scissors\"]\n",
    "\n",
    "# Function to determine the winner of a round\n",
    "def determine_winner(user_choice, computer_choice):\n",
    "    if user_choice == computer_choice:\n",
    "        return \"It's a tie!\"\n",
    "    elif user_choice == \"rock\":\n",
    "        return \"You win!\" if computer_choice == \"scissors\" else \"Computer wins!\"\n",
    "    elif user_choice == \"paper\":\n",
    "        return \"You win!\" if computer_choice == \"rock\" else \"Computer wins!\"\n",
    "    elif user_choice == \"scissors\":\n",
    "        return \"You win!\" if computer_choice == \"paper\" else \"Computer wins!\"\n",
    "\n",
    "# Main game loop\n",
    "while True:\n",
    "    # Get user's choice\n",
    "    user_choice = input(\"Enter your choice (rock, paper, scissors): \").lower()\n",
    "\n",
    "    # Check if the user's choice is valid\n",
    "    if user_choice not in choices:\n",
    "        print(\"Invalid choice. Please enter 'rock', 'paper', or 'scissors'.\")\n",
    "        continue\n",
    "\n",
    "    # Generate a random choice for the computer\n",
    "    computer_choice = random.choice(choices)\n",
    "\n",
    "    # Determine the winner of the round\n",
    "    result = determine_winner(user_choice, computer_choice)\n",
    "\n",
    "    # Display the choices and result\n",
    "    print(f\"You chose: {user_choice}\")\n",
    "    print(f\"Computer chose: {computer_choice}\")\n",
    "    print(result)\n",
    "\n",
    "    # Ask the user if they want to play again\n",
    "    play_again = input(\"Do you want to play again? (yes/no): \").lower()\n",
    "    if play_again != \"yes\":\n",
    "        break\n",
    "\n",
    "print(\"Thanks for playing!\")\n"
   ]
  },
  {
   "cell_type": "markdown",
   "id": "a46edb8a-cb88-4603-bb3c-bda9970cc2ad",
   "metadata": {},
   "source": [
    "23. Develop a program that generates a random password based on user preferences (length, complexity)."
   ]
  },
  {
   "cell_type": "code",
   "execution_count": 68,
   "id": "f588fcf7-518c-4c42-a5a9-dc897c15f9a6",
   "metadata": {},
   "outputs": [
    {
     "name": "stdin",
     "output_type": "stream",
     "text": [
      "Enter the desired password length:  8\n",
      "Include lowercase letters? (yes/no):  yes\n",
      "Include uppercase letters? (yes/no):  yes\n",
      "Include digits? (yes/no):  yes\n",
      "Include symbols? (yes/no):  yes\n"
     ]
    },
    {
     "name": "stdout",
     "output_type": "stream",
     "text": [
      "Generated Password: ^5P(id!G\n"
     ]
    }
   ],
   "source": [
    "import random\n",
    "import string\n",
    "\n",
    "# Function to generate a random password\n",
    "def generate_password(length, use_lowercase, use_uppercase, use_digits, use_symbols):\n",
    "    # Define character sets based on user preferences\n",
    "    characters = ''\n",
    "    if use_lowercase:\n",
    "        characters += string.ascii_lowercase\n",
    "    if use_uppercase:\n",
    "        characters += string.ascii_uppercase\n",
    "    if use_digits:\n",
    "        characters += string.digits\n",
    "    if use_symbols:\n",
    "        characters += string.punctuation\n",
    "\n",
    "    # Check if at least one character set is selected\n",
    "    if not characters:\n",
    "        return \"Please select at least one character type.\"\n",
    "\n",
    "    # Generate the password\n",
    "    password = ''.join(random.choice(characters) for _ in range(length))\n",
    "    return password\n",
    "\n",
    "# Get user preferences for password generation\n",
    "length = int(input(\"Enter the desired password length: \"))\n",
    "use_lowercase = input(\"Include lowercase letters? (yes/no): \").lower() == \"yes\"\n",
    "use_uppercase = input(\"Include uppercase letters? (yes/no): \").lower() == \"yes\"\n",
    "use_digits = input(\"Include digits? (yes/no): \").lower() == \"yes\"\n",
    "use_symbols = input(\"Include symbols? (yes/no): \").lower() == \"yes\"\n",
    "\n",
    "# Generate and display the password\n",
    "password = generate_password(length, use_lowercase, use_uppercase, use_digits, use_symbols)\n",
    "print(\"Generated Password:\", password)\n"
   ]
  },
  {
   "cell_type": "markdown",
   "id": "8651b91a-5cdb-4ba1-876f-a4e5437c730e",
   "metadata": {},
   "source": [
    "24. Create a program that implements a simple text-based adventure game with branching scenarios."
   ]
  },
  {
   "cell_type": "code",
   "execution_count": 73,
   "id": "2e57d10a-c2da-43e4-813f-18006650e715",
   "metadata": {},
   "outputs": [
    {
     "name": "stdout",
     "output_type": "stream",
     "text": [
      "Welcome to the Text Adventure Game!\n",
      "You find yourself standing at a crossroads.\n",
      "Which path will you choose? Left or Right?\n"
     ]
    },
    {
     "name": "stdin",
     "output_type": "stream",
     "text": [
      "Enter 'left' or 'right':  right\n"
     ]
    },
    {
     "name": "stdout",
     "output_type": "stream",
     "text": [
      "You chose the right path.\n",
      "You find a cave entrance. Do you enter the cave or keep walking?\n"
     ]
    },
    {
     "name": "stdin",
     "output_type": "stream",
     "text": [
      "Enter 'enter' or 'walk':  walk\n"
     ]
    },
    {
     "name": "stdout",
     "output_type": "stream",
     "text": [
      "You decide to keep walking.\n",
      "You get lost in the wilderness and cannot find your way back.\n",
      "Game Over! You are lost forever.\n"
     ]
    }
   ],
   "source": [
    "import time\n",
    "\n",
    "# Function to simulate a pause for better user experience\n",
    "def pause():\n",
    "    time.sleep(1)\n",
    "\n",
    "# Introduction\n",
    "print(\"Welcome to the Text Adventure Game!\")\n",
    "pause()\n",
    "print(\"You find yourself standing at a crossroads.\")\n",
    "pause()\n",
    "print(\"Which path will you choose? Left or Right?\")\n",
    "\n",
    "# Get the user's choice\n",
    "choice1 = input(\"Enter 'left' or 'right': \").lower()\n",
    "\n",
    "# Scenario 1: Left Path\n",
    "if choice1 == \"left\":\n",
    "    print(\"You chose the left path.\")\n",
    "    pause()\n",
    "    print(\"You come across a river. Do you swim across or find a bridge?\")\n",
    "    choice2 = input(\"Enter 'swim' or 'bridge': \").lower()\n",
    "    \n",
    "    if choice2 == \"swim\":\n",
    "        print(\"You attempt to swim across the river.\")\n",
    "        pause()\n",
    "        print(\"Unfortunately, you encounter a strong current and get swept away.\")\n",
    "        pause()\n",
    "        print(\"Game Over! You have drowned.\")\n",
    "    elif choice2 == \"bridge\":\n",
    "        print(\"You choose to find a bridge.\")\n",
    "        pause()\n",
    "        print(\"You successfully cross the river and continue on your journey.\")\n",
    "        pause()\n",
    "        print(\"You have reached a magical forest.\")\n",
    "        pause()\n",
    "        print(\"Do you enter the forest or continue on your current path?\")\n",
    "        choice3 = input(\"Enter 'enter' or 'continue': \").lower()\n",
    "        \n",
    "        if choice3 == \"enter\":\n",
    "            print(\"You enter the magical forest.\")\n",
    "            pause()\n",
    "            print(\"You discover hidden treasures and magical creatures.\")\n",
    "            pause()\n",
    "            print(\"Congratulations! You have won the game!\")\n",
    "        elif choice3 == \"continue\":\n",
    "            print(\"You continue on your current path.\")\n",
    "            pause()\n",
    "            print(\"You encounter a group of bandits and lose all your belongings.\")\n",
    "            pause()\n",
    "            print(\"Game Over! You have been robbed.\")\n",
    "        else:\n",
    "            print(\"Invalid choice. Game Over!\")\n",
    "    else:\n",
    "        print(\"Invalid choice. Game Over!\")\n",
    "\n",
    "# Scenario 2: Right Path\n",
    "elif choice1 == \"right\":\n",
    "    print(\"You chose the right path.\")\n",
    "    pause()\n",
    "    print(\"You find a cave entrance. Do you enter the cave or keep walking?\")\n",
    "    choice4 = input(\"Enter 'enter' or 'walk': \").lower()\n",
    "    \n",
    "    if choice4 == \"enter\":\n",
    "        print(\"You enter the dark cave.\")\n",
    "        pause()\n",
    "        print(\"Inside, you discover a hidden treasure chest.\")\n",
    "        pause()\n",
    "        print(\"Congratulations! You have won the game!\")\n",
    "    elif choice4 == \"walk\":\n",
    "        print(\"You decide to keep walking.\")\n",
    "        pause()\n",
    "        print(\"You get lost in the wilderness and cannot find your way back.\")\n",
    "        pause()\n",
    "        print(\"Game Over! You are lost forever.\")\n",
    "    else:\n",
    "        print(\"Invalid choice. Game Over!\")\n",
    "else:\n",
    "    print(\"Invalid choice. Game Over!\")"
   ]
  },
  {
   "cell_type": "markdown",
   "id": "34e379e8-856a-4a70-acb6-6c1230406038",
   "metadata": {},
   "source": [
    "25. Build a program that solves a linear equation for x, considering different cases."
   ]
  },
  {
   "cell_type": "code",
   "execution_count": 75,
   "id": "803530b7-8131-46b3-9060-6463bd190dd7",
   "metadata": {},
   "outputs": [
    {
     "name": "stdin",
     "output_type": "stream",
     "text": [
      "Enter coefficient 'a':  60\n",
      "Enter coefficient 'b':  30\n",
      "Enter coefficient 'c':  40\n"
     ]
    },
    {
     "name": "stdout",
     "output_type": "stream",
     "text": [
      "One solution: 60.0x + 30.0 = 40.0 => x = 0.17\n"
     ]
    }
   ],
   "source": [
    "# Input coefficients a, b, and c from the user\n",
    "a = float(input(\"Enter coefficient 'a': \"))\n",
    "b = float(input(\"Enter coefficient 'b': \"))\n",
    "c = float(input(\"Enter coefficient 'c': \"))\n",
    "\n",
    "# Check for different cases and solve the linear equation\n",
    "if a == 0:\n",
    "    if b == 0:\n",
    "        if c == 0:\n",
    "            print(\"Infinite solutions: 0x = 0\")\n",
    "        else:\n",
    "            print(\"No solution: 0x = c, where c is nonzero\")\n",
    "    else:\n",
    "        x = c / b\n",
    "        print(f\"One solution: 0x + {b} = {c} => x = {x:.2f}\")\n",
    "else:\n",
    "    x = (c - b) / a\n",
    "    print(f\"One solution: {a}x + {b} = {c} => x = {x:.2f}\")\n"
   ]
  },
  {
   "cell_type": "markdown",
   "id": "92d65c1a-f3c1-4598-9dfc-551e04e8c442",
   "metadata": {},
   "source": [
    "26. Write a program that simulates a basic quiz game with multiple-choice questions and scoring."
   ]
  },
  {
   "cell_type": "code",
   "execution_count": 76,
   "id": "090ebfcb-fdd4-4a80-b794-b358f94dc116",
   "metadata": {},
   "outputs": [
    {
     "name": "stdout",
     "output_type": "stream",
     "text": [
      "Welcome to the Quiz Game!\n",
      "\n",
      "Question 1:\n",
      "What is the capital of France?\n",
      "A) London\n",
      "B) Berlin\n",
      "C) Paris\n",
      "D) Rome\n"
     ]
    },
    {
     "name": "stdin",
     "output_type": "stream",
     "text": [
      "Enter the letter of your answer:  c\n"
     ]
    },
    {
     "name": "stdout",
     "output_type": "stream",
     "text": [
      "\n",
      "Question 2:\n",
      "Which planet is known as the Red Planet?\n",
      "A) Venus\n",
      "B) Mars\n",
      "C) Jupiter\n",
      "D) Saturn\n"
     ]
    },
    {
     "name": "stdin",
     "output_type": "stream",
     "text": [
      "Enter the letter of your answer:  c\n"
     ]
    },
    {
     "name": "stdout",
     "output_type": "stream",
     "text": [
      "\n",
      "Question 3:\n",
      "What is the largest mammal in the world?\n",
      "A) Elephant\n",
      "B) Giraffe\n",
      "C) Blue Whale\n",
      "D) Lion\n"
     ]
    },
    {
     "name": "stdin",
     "output_type": "stream",
     "text": [
      "Enter the letter of your answer:  b\n"
     ]
    },
    {
     "name": "stdout",
     "output_type": "stream",
     "text": [
      "\n",
      "Quiz Completed! Here are your results:\n",
      "Correct answers: 1/3\n"
     ]
    }
   ],
   "source": [
    "# Define the quiz questions and answers\n",
    "questions = [\n",
    "    {\n",
    "        'question': 'What is the capital of France?',\n",
    "        'options': ['A) London', 'B) Berlin', 'C) Paris', 'D) Rome'],\n",
    "        'correct_answer': 'C',\n",
    "    },\n",
    "    {\n",
    "        'question': 'Which planet is known as the Red Planet?',\n",
    "        'options': ['A) Venus', 'B) Mars', 'C) Jupiter', 'D) Saturn'],\n",
    "        'correct_answer': 'B',\n",
    "    },\n",
    "    {\n",
    "        'question': 'What is the largest mammal in the world?',\n",
    "        'options': ['A) Elephant', 'B) Giraffe', 'C) Blue Whale', 'D) Lion'],\n",
    "        'correct_answer': 'C',\n",
    "    },\n",
    "]\n",
    "\n",
    "# Function to display a question and get the user's answer\n",
    "def ask_question(question):\n",
    "    print(question['question'])\n",
    "    for option in question['options']:\n",
    "        print(option)\n",
    "    user_answer = input(\"Enter the letter of your answer: \").strip().upper()\n",
    "    return user_answer\n",
    "\n",
    "# Function to calculate and display the user's score\n",
    "def calculate_score(user_answers, questions):\n",
    "    score = 0\n",
    "    for i in range(len(questions)):\n",
    "        if user_answers[i] == questions[i]['correct_answer']:\n",
    "            score += 1\n",
    "    return score\n",
    "\n",
    "# Main quiz loop\n",
    "print(\"Welcome to the Quiz Game!\")\n",
    "user_answers = []\n",
    "for i, question in enumerate(questions, 1):\n",
    "    print(f\"\\nQuestion {i}:\")\n",
    "    user_answer = ask_question(question)\n",
    "    user_answers.append(user_answer)\n",
    "\n",
    "# Calculate and display the user's score\n",
    "user_score = calculate_score(user_answers, questions)\n",
    "print(\"\\nQuiz Completed! Here are your results:\")\n",
    "print(f\"Correct answers: {user_score}/{len(questions)}\")\n"
   ]
  },
  {
   "cell_type": "markdown",
   "id": "d28e4753-646f-4e05-a6a4-7bc4c5dbcbb7",
   "metadata": {},
   "source": [
    "27. Develop a program that determines whether a given year is a prime number or not."
   ]
  },
  {
   "cell_type": "code",
   "execution_count": 77,
   "id": "bc50122b-32fb-43eb-9073-7dc70392d42a",
   "metadata": {},
   "outputs": [
    {
     "name": "stdin",
     "output_type": "stream",
     "text": [
      "Enter a year:  2023\n"
     ]
    },
    {
     "name": "stdout",
     "output_type": "stream",
     "text": [
      "2023 is not a prime year.\n"
     ]
    }
   ],
   "source": [
    "# Function to check if a number is prime\n",
    "def is_prime(number):\n",
    "    if number <= 1:\n",
    "        return False\n",
    "    if number <= 3:\n",
    "        return True\n",
    "    if number % 2 == 0 or number % 3 == 0:\n",
    "        return False\n",
    "    i = 5\n",
    "    while i * i <= number:\n",
    "        if number % i == 0 or number % (i + 2) == 0:\n",
    "            return False\n",
    "        i += 6\n",
    "    return True\n",
    "\n",
    "# Input the year from the user\n",
    "year = int(input(\"Enter a year: \"))\n",
    "\n",
    "# Check if the year is prime\n",
    "if is_prime(year):\n",
    "    print(f\"{year} is a prime year.\")\n",
    "else:\n",
    "    print(f\"{year} is not a prime year.\")\n"
   ]
  },
  {
   "cell_type": "markdown",
   "id": "d0955143-24d3-4bc9-bc65-3439d982942f",
   "metadata": {},
   "source": [
    "28. Create a program that sorts three numbers in ascending order using conditional statements."
   ]
  },
  {
   "cell_type": "code",
   "execution_count": 78,
   "id": "2fe41370-9686-4181-8dfb-f42b5b8734ea",
   "metadata": {},
   "outputs": [
    {
     "name": "stdin",
     "output_type": "stream",
     "text": [
      "Enter the first number:  4\n",
      "Enter the second number:  6\n",
      "Enter the third number:  1\n"
     ]
    },
    {
     "name": "stdout",
     "output_type": "stream",
     "text": [
      "Numbers in ascending order: [1.0, 4.0, 6.0]\n"
     ]
    }
   ],
   "source": [
    "# Input three numbers from the user\n",
    "num1 = float(input(\"Enter the first number: \"))\n",
    "num2 = float(input(\"Enter the second number: \"))\n",
    "num3 = float(input(\"Enter the third number: \"))\n",
    "\n",
    "# Compare and sort the numbers using conditional statements\n",
    "if num1 <= num2 <= num3:\n",
    "    sorted_nums = [num1, num2, num3]\n",
    "elif num1 <= num3 <= num2:\n",
    "    sorted_nums = [num1, num3, num2]\n",
    "elif num2 <= num1 <= num3:\n",
    "    sorted_nums = [num2, num1, num3]\n",
    "elif num2 <= num3 <= num1:\n",
    "    sorted_nums = [num2, num3, num1]\n",
    "elif num3 <= num1 <= num2:\n",
    "    sorted_nums = [num3, num1, num2]\n",
    "else:\n",
    "    sorted_nums = [num3, num2, num1]\n",
    "\n",
    "# Display the sorted numbers\n",
    "print(\"Numbers in ascending order:\", sorted_nums)\n"
   ]
  },
  {
   "cell_type": "markdown",
   "id": "5250b991-ef3f-485f-9394-679fcfc9d799",
   "metadata": {},
   "source": [
    "29. Build a program that determines the roots of a quartic equation using numerical methods."
   ]
  },
  {
   "cell_type": "code",
   "execution_count": 79,
   "id": "ae83c2dd-f8fd-4688-82be-e18256554994",
   "metadata": {},
   "outputs": [
    {
     "name": "stdout",
     "output_type": "stream",
     "text": [
      "Approximate root: 1.000000\n"
     ]
    }
   ],
   "source": [
    "import sympy as sp\n",
    "\n",
    "# Define the quartic equation as a function\n",
    "x = sp.symbols('x')\n",
    "equation = x**4 - 6*x**3 + 11*x**2 - 6*x\n",
    "\n",
    "# Find the derivative of the equation\n",
    "derivative = sp.diff(equation, x)\n",
    "\n",
    "# Initial guess for the root\n",
    "initial_guess = 1.0\n",
    "\n",
    "# Set the tolerance and maximum number of iterations\n",
    "tolerance = 1e-6\n",
    "max_iterations = 100\n",
    "\n",
    "# Newton-Raphson iteration\n",
    "x_guess = initial_guess\n",
    "for i in range(max_iterations):\n",
    "    f_value = equation.subs(x, x_guess)\n",
    "    f_prime_value = derivative.subs(x, x_guess)\n",
    "    x_guess = x_guess - f_value / f_prime_value\n",
    "\n",
    "    if abs(f_value) < tolerance:\n",
    "        break\n",
    "\n",
    "if i == max_iterations - 1:\n",
    "    print(\"Root not found within the maximum number of iterations.\")\n",
    "else:\n",
    "    print(f\"Approximate root: {x_guess:.6f}\")\n"
   ]
  },
  {
   "cell_type": "markdown",
   "id": "4716b84e-1534-438e-9afe-2d903c213fad",
   "metadata": {},
   "source": [
    "30. Write a program that calculates the BMI (Body Mass Index) and provides health recommendations based\n",
    "on the user's input."
   ]
  },
  {
   "cell_type": "code",
   "execution_count": 84,
   "id": "c0b34663-8f0c-48e8-8459-e48afea11bdd",
   "metadata": {},
   "outputs": [
    {
     "name": "stdin",
     "output_type": "stream",
     "text": [
      "Enter your weight (in kilograms):  50\n",
      "Enter your height (in meters):  120\n"
     ]
    },
    {
     "name": "stdout",
     "output_type": "stream",
     "text": [
      "Your BMI is 0.00\n",
      "You are underweight. It's important to maintain a balanced diet and consider consulting a nutritionist.\n"
     ]
    }
   ],
   "source": [
    "# Function to calculate BMI\n",
    "def calculate_bmi(weight, height):\n",
    "    return weight / (height ** 2)\n",
    "\n",
    "# Function to provide health recommendations\n",
    "def get_health_recommendation(bmi):\n",
    "    if bmi < 18.5:\n",
    "        return \"You are underweight. It's important to maintain a balanced diet and consider consulting a nutritionist.\"\n",
    "    elif 18.5 <= bmi < 24.9:\n",
    "        return \"Your BMI is in the healthy range. Keep up the good work with a balanced diet and regular exercise.\"\n",
    "    elif 24.9 <= bmi < 29.9:\n",
    "        return \"You are overweight. Consider incorporating more physical activity and a balanced diet into your lifestyle.\"\n",
    "    else:\n",
    "        return \"You are obese. It's important to consult a healthcare professional for guidance on a healthy lifestyle.\"\n",
    "\n",
    "# Input weight and height from the user\n",
    "weight = float(input(\"Enter your weight (in kilograms): \"))\n",
    "height = float(input(\"Enter your height (in meters): \"))\n",
    "\n",
    "# Calculate BMI\n",
    "bmi = calculate_bmi(weight, height)\n",
    "\n",
    "# Display BMI and health recommendations\n",
    "print(f\"Your BMI is {bmi:.2f}\")\n",
    "recommendation = get_health_recommendation(bmi)\n",
    "print(recommendation)\n"
   ]
  },
  {
   "cell_type": "markdown",
   "id": "50a24718-5cdc-4819-90bc-37b883eaa033",
   "metadata": {},
   "source": [
    "31. Create a program that validates a password based on complexity rules (length, characters, etc.)."
   ]
  },
  {
   "cell_type": "code",
   "execution_count": 86,
   "id": "7c1ed59a-cd3e-4a17-aad9-978e16007acf",
   "metadata": {},
   "outputs": [
    {
     "name": "stdin",
     "output_type": "stream",
     "text": [
      "Enter a password:  Ashwini123@\n"
     ]
    },
    {
     "name": "stdout",
     "output_type": "stream",
     "text": [
      "Password is valid.\n"
     ]
    }
   ],
   "source": [
    "import re\n",
    "\n",
    "# Function to validate a password\n",
    "def is_valid_password(password):\n",
    "    # Check password length (at least 8 characters)\n",
    "    if len(password) < 8:\n",
    "        return False\n",
    "    \n",
    "    # Check for at least one uppercase letter\n",
    "    if not re.search(r'[A-Z]', password):\n",
    "        return False\n",
    "\n",
    "    # Check for at least one lowercase letter\n",
    "    if not re.search(r'[a-z]', password):\n",
    "        return False\n",
    "\n",
    "    # Check for at least one digit\n",
    "    if not re.search(r'[0-9]', password):\n",
    "        return False\n",
    "\n",
    "    # Check for at least one special character\n",
    "    if not re.search(r'[!@#$%^&*()_+{}\\[\\]:;<>,.?~\\\\]', password):\n",
    "        return False\n",
    "\n",
    "    # If all checks pass, the password is valid\n",
    "    return True\n",
    "\n",
    "# Input a password from the user\n",
    "password = input(\"Enter a password: \")\n",
    "\n",
    "# Validate the password\n",
    "if is_valid_password(password):\n",
    "    print(\"Password is valid.\")\n",
    "else:\n",
    "    print(\"Password is invalid. Please follow the password complexity rules.\")\n"
   ]
  },
  {
   "cell_type": "markdown",
   "id": "599b5aac-4903-4f00-9c20-6e4cc7066e0f",
   "metadata": {},
   "source": [
    "32. Develop a program that performs matrix addition and subtraction based on user input."
   ]
  },
  {
   "cell_type": "code",
   "execution_count": 88,
   "id": "e1c8b70c-092b-4afa-b94e-cf8a883f26f5",
   "metadata": {},
   "outputs": [
    {
     "name": "stdin",
     "output_type": "stream",
     "text": [
      "Enter the number of rows:  2\n",
      "Enter the number of columns:  2\n"
     ]
    },
    {
     "name": "stdout",
     "output_type": "stream",
     "text": [
      "Enter elements for the first matrix:\n"
     ]
    },
    {
     "name": "stdin",
     "output_type": "stream",
     "text": [
      "Enter element at row 1, column 1:  2\n",
      "Enter element at row 1, column 2:  3\n",
      "Enter element at row 2, column 1:  3\n",
      "Enter element at row 2, column 2:  4\n"
     ]
    },
    {
     "name": "stdout",
     "output_type": "stream",
     "text": [
      "Enter elements for the second matrix:\n"
     ]
    },
    {
     "name": "stdin",
     "output_type": "stream",
     "text": [
      "Enter element at row 1, column 1:  2\n",
      "Enter element at row 1, column 2:  3\n",
      "Enter element at row 2, column 1:  4\n",
      "Enter element at row 2, column 2:  5\n"
     ]
    },
    {
     "name": "stdout",
     "output_type": "stream",
     "text": [
      "\n",
      "Matrix Addition Result:\n",
      "[4.0, 6.0]\n",
      "[7.0, 9.0]\n",
      "\n",
      "Matrix Subtraction Result:\n",
      "[0.0, 0.0]\n",
      "[-1.0, -1.0]\n"
     ]
    }
   ],
   "source": [
    "# Function to create a matrix of specified dimensions\n",
    "def create_matrix(rows, cols):\n",
    "    matrix = []\n",
    "    for i in range(rows):\n",
    "        row = []\n",
    "        for j in range(cols):\n",
    "            element = float(input(f\"Enter element at row {i+1}, column {j+1}: \"))\n",
    "            row.append(element)\n",
    "        matrix.append(row)\n",
    "    return matrix\n",
    "\n",
    "# Function to add two matrices\n",
    "def add_matrices(matrix1, matrix2):\n",
    "    if len(matrix1) != len(matrix2) or len(matrix1[0]) != len(matrix2[0]):\n",
    "        return None  # Matrices must have the same dimensions for addition\n",
    "    result = []\n",
    "    for i in range(len(matrix1)):\n",
    "        row = []\n",
    "        for j in range(len(matrix1[0])):\n",
    "            sum_element = matrix1[i][j] + matrix2[i][j]\n",
    "            row.append(sum_element)\n",
    "        result.append(row)\n",
    "    return result\n",
    "\n",
    "# Function to subtract two matrices\n",
    "def subtract_matrices(matrix1, matrix2):\n",
    "    if len(matrix1) != len(matrix2) or len(matrix1[0]) != len(matrix2[0]):\n",
    "        return None  # Matrices must have the same dimensions for subtraction\n",
    "    result = []\n",
    "    for i in range(len(matrix1)):\n",
    "        row = []\n",
    "        for j in range(len(matrix1[0])):\n",
    "            diff_element = matrix1[i][j] - matrix2[i][j]\n",
    "            row.append(diff_element)\n",
    "        result.append(row)\n",
    "    return result\n",
    "\n",
    "# Input matrix dimensions from the user\n",
    "rows = int(input(\"Enter the number of rows: \"))\n",
    "cols = int(input(\"Enter the number of columns: \"))\n",
    "\n",
    "# Create the first matrix\n",
    "print(\"Enter elements for the first matrix:\")\n",
    "matrix1 = create_matrix(rows, cols)\n",
    "\n",
    "# Create the second matrix\n",
    "print(\"Enter elements for the second matrix:\")\n",
    "matrix2 = create_matrix(rows, cols)\n",
    "\n",
    "# Perform matrix addition\n",
    "sum_result = add_matrices(matrix1, matrix2)\n",
    "if sum_result is not None:\n",
    "    print(\"\\nMatrix Addition Result:\")\n",
    "    for row in sum_result:\n",
    "        print(row)\n",
    "else:\n",
    "    print(\"Matrix addition is not possible due to different dimensions.\")\n",
    "\n",
    "# Perform matrix subtraction\n",
    "diff_result = subtract_matrices(matrix1, matrix2)\n",
    "if diff_result is not None:\n",
    "    print(\"\\nMatrix Subtraction Result:\")\n",
    "    for row in diff_result:\n",
    "        print(row)\n",
    "else:\n",
    "    print(\"Matrix subtraction is not possible due to different dimensions.\")\n"
   ]
  },
  {
   "cell_type": "markdown",
   "id": "63ba8001-b598-441e-a408-1490cdfec521",
   "metadata": {},
   "source": [
    "33. Write a program that calculates the greatest common divisor (GCD) of two numbers using the Euclidean\n",
    "algorithm."
   ]
  },
  {
   "cell_type": "code",
   "execution_count": 89,
   "id": "e937d754-c7b5-4465-9327-1fbf121eb44f",
   "metadata": {},
   "outputs": [
    {
     "name": "stdin",
     "output_type": "stream",
     "text": [
      "Enter the first number:  5\n",
      "Enter the second number:  6\n"
     ]
    },
    {
     "name": "stdout",
     "output_type": "stream",
     "text": [
      "The GCD of 5 and 6 is 1\n"
     ]
    }
   ],
   "source": [
    "# Function to calculate the GCD using the Euclidean algorithm\n",
    "def gcd_euclidean(a, b):\n",
    "    while b:\n",
    "        a, b = b, a % b\n",
    "    return a\n",
    "\n",
    "# Input two numbers from the user\n",
    "num1 = int(input(\"Enter the first number: \"))\n",
    "num2 = int(input(\"Enter the second number: \"))\n",
    "\n",
    "# Calculate the GCD using the Euclidean algorithm\n",
    "gcd = gcd_euclidean(num1, num2)\n",
    "\n",
    "# Display the GCD\n",
    "print(f\"The GCD of {num1} and {num2} is {gcd}\")\n"
   ]
  },
  {
   "cell_type": "markdown",
   "id": "4da4e203-fe1d-4e07-8969-c56a3d2cd2bd",
   "metadata": {},
   "source": [
    "34. Build a program that performs matrix multiplication using nested loops and conditional statements."
   ]
  },
  {
   "cell_type": "code",
   "execution_count": 91,
   "id": "2a0e755c-f20d-44a1-9dc1-371b8069c7a2",
   "metadata": {},
   "outputs": [
    {
     "name": "stdin",
     "output_type": "stream",
     "text": [
      "Enter the number of rows for the first matrix:  2\n",
      "Enter the number of columns for the first matrix:  2\n"
     ]
    },
    {
     "name": "stdout",
     "output_type": "stream",
     "text": [
      "Enter elements for the first matrix:\n"
     ]
    },
    {
     "name": "stdin",
     "output_type": "stream",
     "text": [
      "Enter element at row 1, column 1:  4\n",
      "Enter element at row 1, column 2:  5\n",
      "Enter element at row 2, column 1:  6\n",
      "Enter element at row 2, column 2:  8\n",
      "Enter the number of rows for the second matrix:  2\n",
      "Enter the number of columns for the second matrix:  4\n"
     ]
    },
    {
     "name": "stdout",
     "output_type": "stream",
     "text": [
      "Enter elements for the second matrix:\n"
     ]
    },
    {
     "name": "stdin",
     "output_type": "stream",
     "text": [
      "Enter element at row 1, column 1:  6\n",
      "Enter element at row 1, column 2:  6\n",
      "Enter element at row 1, column 3:  5\n",
      "Enter element at row 1, column 4:  4\n",
      "Enter element at row 2, column 1:  3\n",
      "Enter element at row 2, column 2:  2\n",
      "Enter element at row 2, column 3:  7\n",
      "Enter element at row 2, column 4:  5\n"
     ]
    },
    {
     "name": "stdout",
     "output_type": "stream",
     "text": [
      "\n",
      "Matrix Multiplication Result:\n",
      "[39.0, 34.0, 55.0, 41.0]\n",
      "[60.0, 52.0, 86.0, 64.0]\n"
     ]
    }
   ],
   "source": [
    "# Function to create a matrix of specified dimensions\n",
    "def create_matrix(rows, cols):\n",
    "    matrix = []\n",
    "    for i in range(rows):\n",
    "        row = []\n",
    "        for j in range(cols):\n",
    "            element = float(input(f\"Enter element at row {i+1}, column {j+1}: \"))\n",
    "            row.append(element)\n",
    "        matrix.append(row)\n",
    "    return matrix\n",
    "\n",
    "# Function to multiply two matrices\n",
    "def multiply_matrices(matrix1, matrix2):\n",
    "    if len(matrix1[0]) != len(matrix2):\n",
    "        return None  # Matrix multiplication is not possible\n",
    "    result = []\n",
    "    for i in range(len(matrix1)):\n",
    "        row = []\n",
    "        for j in range(len(matrix2[0])):\n",
    "            product = 0\n",
    "            for k in range(len(matrix2)):\n",
    "                product += matrix1[i][k] * matrix2[k][j]\n",
    "            row.append(product)\n",
    "        result.append(row)\n",
    "    return result\n",
    "\n",
    "# Input dimensions for the first matrix\n",
    "rows1 = int(input(\"Enter the number of rows for the first matrix: \"))\n",
    "cols1 = int(input(\"Enter the number of columns for the first matrix: \"))\n",
    "\n",
    "# Create the first matrix\n",
    "print(\"Enter elements for the first matrix:\")\n",
    "matrix1 = create_matrix(rows1, cols1)\n",
    "\n",
    "# Input dimensions for the second matrix\n",
    "rows2 = int(input(\"Enter the number of rows for the second matrix: \"))\n",
    "cols2 = int(input(\"Enter the number of columns for the second matrix: \"))\n",
    "\n",
    "# Create the second matrix\n",
    "print(\"Enter elements for the second matrix:\")\n",
    "matrix2 = create_matrix(rows2, cols2)\n",
    "\n",
    "# Multiply the matrices\n",
    "product_result = multiply_matrices(matrix1, matrix2)\n",
    "\n",
    "# Display the result if multiplication is possible\n",
    "if product_result is not None:\n",
    "    print(\"\\nMatrix Multiplication Result:\")\n",
    "    for row in product_result:\n",
    "        print(row)\n",
    "else:\n",
    "    print(\"Matrix multiplication is not possible due to incompatible dimensions.\")\n"
   ]
  },
  {
   "cell_type": "markdown",
   "id": "fb8e2b68-c14b-4ce7-ab7e-3beb9a370f77",
   "metadata": {},
   "source": [
    "35. Create a program that simulates a basic text-based tic-tac-toe game against the computer."
   ]
  },
  {
   "cell_type": "code",
   "execution_count": 96,
   "id": "cb491407-9178-4053-8d54-e0d81bcba18a",
   "metadata": {},
   "outputs": [
    {
     "name": "stdout",
     "output_type": "stream",
     "text": [
      "Welcome to Tic-Tac-Toe!\n",
      "  |   |  \n",
      "---------\n",
      "  |   |  \n",
      "---------\n",
      "  |   |  \n",
      "---------\n"
     ]
    },
    {
     "name": "stdin",
     "output_type": "stream",
     "text": [
      "Enter your move (row and column):  1 2\n"
     ]
    },
    {
     "name": "stdout",
     "output_type": "stream",
     "text": [
      "Computer's move: 2, 0\n",
      "  |   |  \n",
      "---------\n",
      "  |   | X\n",
      "---------\n",
      "O |   |  \n",
      "---------\n"
     ]
    },
    {
     "name": "stdin",
     "output_type": "stream",
     "text": [
      "Enter your move (row and column):  2 1\n"
     ]
    },
    {
     "name": "stdout",
     "output_type": "stream",
     "text": [
      "Computer's move: 0, 1\n",
      "  | O |  \n",
      "---------\n",
      "  |   | X\n",
      "---------\n",
      "O | X |  \n",
      "---------\n"
     ]
    },
    {
     "name": "stdin",
     "output_type": "stream",
     "text": [
      "Enter your move (row and column):  1 2\n"
     ]
    },
    {
     "name": "stdout",
     "output_type": "stream",
     "text": [
      "That cell is already occupied. Try again.\n",
      "  | O |  \n",
      "---------\n",
      "  |   | X\n",
      "---------\n",
      "O | X |  \n",
      "---------\n"
     ]
    },
    {
     "name": "stdin",
     "output_type": "stream",
     "text": [
      "Enter your move (row and column):  2 2\n"
     ]
    },
    {
     "name": "stdout",
     "output_type": "stream",
     "text": [
      "Computer's move: 0, 0\n",
      "O | O |  \n",
      "---------\n",
      "  |   | X\n",
      "---------\n",
      "O | X | X\n",
      "---------\n"
     ]
    },
    {
     "name": "stdin",
     "output_type": "stream",
     "text": [
      "Enter your move (row and column):  1 1\n"
     ]
    },
    {
     "name": "stdout",
     "output_type": "stream",
     "text": [
      "Computer's move: 1, 0\n",
      "O | O |  \n",
      "---------\n",
      "O | X | X\n",
      "---------\n",
      "O | X | X\n",
      "---------\n",
      "Computer wins! Better luck next time.\n"
     ]
    }
   ],
   "source": [
    "import random\n",
    "\n",
    "# Function to display the Tic-Tac-Toe board\n",
    "def display_board(board):\n",
    "    for row in board:\n",
    "        print(\" | \".join(row))\n",
    "        print(\"-\" * 9)\n",
    "\n",
    "# Function to check for a win\n",
    "def check_win(board, player):\n",
    "    for row in board:\n",
    "        if all(cell == player for cell in row):\n",
    "            return True\n",
    "    for col in range(3):\n",
    "        if all(board[row][col] == player for row in range(3)):\n",
    "            return True\n",
    "    if all(board[i][i] == player for i in range(3)) or all(board[i][2 - i] == player for i in range(3)):\n",
    "        return True\n",
    "    return False\n",
    "\n",
    "# Function to check for a tie\n",
    "def check_tie(board):\n",
    "    return all(cell != \" \" for row in board for cell in row)\n",
    "\n",
    "# Function for the computer's move (random choice)\n",
    "def computer_move(board):\n",
    "    empty_cells = [(row, col) for row in range(3) for col in range(3) if board[row][col] == \" \"]\n",
    "    if empty_cells:\n",
    "        return random.choice(empty_cells)\n",
    "    return None\n",
    "\n",
    "# Main game loop\n",
    "def play_game():\n",
    "    board = [[\" \" for _ in range(3)] for _ in range(3)]\n",
    "    player = \"X\"\n",
    "    computer = \"O\"\n",
    "\n",
    "    while True:\n",
    "        display_board(board)\n",
    "        \n",
    "        # Player's move\n",
    "        row, col = map(int, input(\"Enter your move (row and column): \").split())\n",
    "        if board[row][col] == \" \":\n",
    "            board[row][col] = player\n",
    "        else:\n",
    "            print(\"That cell is already occupied. Try again.\")\n",
    "            continue\n",
    "        \n",
    "        # Check for player win\n",
    "        if check_win(board, player):\n",
    "            display_board(board)\n",
    "            print(\"Congratulations! You win!\")\n",
    "            break\n",
    "        \n",
    "        # Check for a tie\n",
    "        if check_tie(board):\n",
    "            display_board(board)\n",
    "            print(\"It's a tie!\")\n",
    "            break\n",
    "        \n",
    "        # Computer's move\n",
    "        computer_row, computer_col = computer_move(board)\n",
    "        if computer_row is not None:\n",
    "            board[computer_row][computer_col] = computer\n",
    "            print(f\"Computer's move: {computer_row}, {computer_col}\")\n",
    "        \n",
    "        # Check for computer win\n",
    "        if check_win(board, computer):\n",
    "            display_board(board)\n",
    "            print(\"Computer wins! Better luck next time.\")\n",
    "            break\n",
    "\n",
    "# Start the game\n",
    "print(\"Welcome to Tic-Tac-Toe!\")\n",
    "play_game()\n"
   ]
  },
  {
   "cell_type": "markdown",
   "id": "185ebe9a-f642-4533-b3e6-3866165c43d0",
   "metadata": {},
   "source": [
    "36. Write a program that generates Fibonacci numbers up to a specified term using iterative methods."
   ]
  },
  {
   "cell_type": "code",
   "execution_count": 97,
   "id": "1ca56001-0e27-4b23-aa99-1b20fef301cf",
   "metadata": {},
   "outputs": [
    {
     "name": "stdin",
     "output_type": "stream",
     "text": [
      "Enter the maximum term for Fibonacci generation:  5\n"
     ]
    },
    {
     "name": "stdout",
     "output_type": "stream",
     "text": [
      "Fibonacci numbers up to term 5 :\n",
      "[0, 1, 1, 2, 3]\n"
     ]
    }
   ],
   "source": [
    "# Function to generate Fibonacci numbers up to a specified term\n",
    "def generate_fibonacci(n):\n",
    "    fibonacci_sequence = []\n",
    "    if n >= 1:\n",
    "        fibonacci_sequence.append(0)\n",
    "    if n >= 2:\n",
    "        fibonacci_sequence.append(1)\n",
    "\n",
    "    for i in range(2, n):\n",
    "        next_fibonacci = fibonacci_sequence[-1] + fibonacci_sequence[-2]\n",
    "        if next_fibonacci > n:\n",
    "            break\n",
    "        fibonacci_sequence.append(next_fibonacci)\n",
    "\n",
    "    return fibonacci_sequence\n",
    "\n",
    "# Input the maximum term for Fibonacci generation\n",
    "n = int(input(\"Enter the maximum term for Fibonacci generation: \"))\n",
    "\n",
    "# Generate Fibonacci numbers\n",
    "fibonacci_numbers = generate_fibonacci(n)\n",
    "\n",
    "# Display the Fibonacci sequence\n",
    "print(\"Fibonacci numbers up to term\", n, \":\")\n",
    "print(fibonacci_numbers)\n"
   ]
  },
  {
   "cell_type": "markdown",
   "id": "8282e2e6-8c3a-4934-9f6d-1c77c791c427",
   "metadata": {},
   "source": [
    "37. Develop a program that calculates the nth term of the Fibonacci sequence using memoization."
   ]
  },
  {
   "cell_type": "code",
   "execution_count": 98,
   "id": "611b36b7-67f5-4452-8208-3e001074dafe",
   "metadata": {},
   "outputs": [
    {
     "name": "stdin",
     "output_type": "stream",
     "text": [
      "Enter the term (n) for the Fibonacci sequence:  5\n"
     ]
    },
    {
     "name": "stdout",
     "output_type": "stream",
     "text": [
      "The 5th Fibonacci term is: 5\n"
     ]
    }
   ],
   "source": [
    "# Function to calculate the nth Fibonacci term using memoization\n",
    "def fibonacci_memoization(n, memo={}):\n",
    "    if n in memo:\n",
    "        return memo[n]\n",
    "    if n <= 1:\n",
    "        memo[n] = n\n",
    "    else:\n",
    "        memo[n] = fibonacci_memoization(n - 1, memo) + fibonacci_memoization(n - 2, memo)\n",
    "    return memo[n]\n",
    "\n",
    "# Input the term for which you want to calculate the Fibonacci number\n",
    "n = int(input(\"Enter the term (n) for the Fibonacci sequence: \"))\n",
    "\n",
    "# Calculate and display the nth Fibonacci term\n",
    "result = fibonacci_memoization(n)\n",
    "print(f\"The {n}th Fibonacci term is: {result}\")\n"
   ]
  },
  {
   "cell_type": "markdown",
   "id": "41feaa7e-b2a7-4dfe-8336-4182200470b1",
   "metadata": {},
   "source": [
    "38. Create a program that generates a calendar for a given month and year using conditional statements."
   ]
  },
  {
   "cell_type": "code",
   "execution_count": 99,
   "id": "cbcf7722-8fc9-4cd1-a283-e16e21a0431c",
   "metadata": {},
   "outputs": [
    {
     "name": "stdin",
     "output_type": "stream",
     "text": [
      "Enter the year:  2023\n",
      "Enter the month (1-12):  6\n"
     ]
    },
    {
     "name": "stdout",
     "output_type": "stream",
     "text": [
      "\n",
      "Calendar:\n",
      "     June 2023\n",
      "Mo Tu We Th Fr Sa Su\n",
      "          1  2  3  4\n",
      " 5  6  7  8  9 10 11\n",
      "12 13 14 15 16 17 18\n",
      "19 20 21 22 23 24 25\n",
      "26 27 28 29 30\n",
      "\n"
     ]
    }
   ],
   "source": [
    "import calendar\n",
    "\n",
    "# Input the year and month from the user\n",
    "year = int(input(\"Enter the year: \"))\n",
    "month = int(input(\"Enter the month (1-12): \"))\n",
    "\n",
    "# Validate the input\n",
    "if month < 1 or month > 12:\n",
    "    print(\"Invalid month input. Please enter a number between 1 and 12.\")\n",
    "else:\n",
    "    # Generate the calendar for the specified month and year\n",
    "    cal = calendar.month(year, month)\n",
    "    \n",
    "    # Display the calendar\n",
    "    print(\"\\nCalendar:\")\n",
    "    print(cal)\n"
   ]
  },
  {
   "cell_type": "markdown",
   "id": "5a410dc8-f19e-4f2c-bde5-59394068883e",
   "metadata": {},
   "source": [
    "39. Build a program that simulates a basic text-based blackjack game against the computer."
   ]
  },
  {
   "cell_type": "code",
   "execution_count": 103,
   "id": "e2452ce5-cee3-449f-8644-c7746f32c895",
   "metadata": {},
   "outputs": [
    {
     "name": "stdout",
     "output_type": "stream",
     "text": [
      "Player's hand: 3 3\n",
      "Dealer's hand: 8 X\n"
     ]
    },
    {
     "name": "stdin",
     "output_type": "stream",
     "text": [
      "Do you want to 'hit' or 'stand'?  hit\n"
     ]
    },
    {
     "name": "stdout",
     "output_type": "stream",
     "text": [
      "Player's hand: 3 3 2\n"
     ]
    },
    {
     "name": "stdin",
     "output_type": "stream",
     "text": [
      "Do you want to 'hit' or 'stand'?  stand\n"
     ]
    },
    {
     "name": "stdout",
     "output_type": "stream",
     "text": [
      "\n",
      "Player's hand: 3 3 2\n",
      "Player's hand value: 8\n",
      "Dealer's hand: 8 Q\n",
      "Dealer's hand value: 18\n",
      "Dealer wins!\n"
     ]
    }
   ],
   "source": [
    "import random\n",
    "\n",
    "# Function to calculate the total value of a hand\n",
    "def calculate_hand_value(hand):\n",
    "    value = 0\n",
    "    num_aces = 0\n",
    "\n",
    "    for card in hand:\n",
    "        if card in ['J', 'Q', 'K']:\n",
    "            value += 10\n",
    "        elif card == 'A':\n",
    "            value += 11\n",
    "            num_aces += 1\n",
    "        else:\n",
    "            value += int(card)\n",
    "\n",
    "    # Adjust for aces if necessary\n",
    "    while num_aces > 0 and value > 21:\n",
    "        value -= 10\n",
    "        num_aces -= 1\n",
    "\n",
    "    return value\n",
    "\n",
    "# Function to display a hand\n",
    "def display_hand(hand):\n",
    "    return \" \".join(hand)\n",
    "\n",
    "# Initialize the deck of cards\n",
    "suits = ['Hearts', 'Diamonds', 'Clubs', 'Spades']\n",
    "ranks = ['2', '3', '4', '5', '6', '7', '8', '9', '10', 'J', 'Q', 'K', 'A']\n",
    "\n",
    "deck = [rank for rank in ranks for _ in suits]\n",
    "random.shuffle(deck)\n",
    "\n",
    "# Initialize player and dealer hands\n",
    "player_hand = []\n",
    "dealer_hand = []\n",
    "\n",
    "# Deal the initial cards\n",
    "player_hand.append(deck.pop())\n",
    "dealer_hand.append(deck.pop())\n",
    "player_hand.append(deck.pop())\n",
    "dealer_hand.append(deck.pop())\n",
    "\n",
    "# Display the initial hands\n",
    "print(\"Player's hand:\", display_hand(player_hand))\n",
    "print(\"Dealer's hand:\", dealer_hand[0], \"X\")\n",
    "\n",
    "# Player's turn\n",
    "while True:\n",
    "    player_value = calculate_hand_value(player_hand)\n",
    "    \n",
    "    if player_value == 21:\n",
    "        print(\"Player got blackjack! Player wins!\")\n",
    "        break\n",
    "    elif player_value > 21:\n",
    "        print(\"Player busts! Dealer wins!\")\n",
    "        break\n",
    "\n",
    "    action = input(\"Do you want to 'hit' or 'stand'? \").strip().lower()\n",
    "    if action == 'hit':\n",
    "        player_hand.append(deck.pop())\n",
    "        print(\"Player's hand:\", display_hand(player_hand))\n",
    "    elif action == 'stand':\n",
    "        break\n",
    "    else:\n",
    "        print(\"Invalid input. Please enter 'hit' or 'stand'.\")\n",
    "\n",
    "# Dealer's turn\n",
    "while calculate_hand_value(dealer_hand) < 17:\n",
    "    dealer_hand.append(deck.pop())\n",
    "\n",
    "# Display the final hands\n",
    "print(\"\\nPlayer's hand:\", display_hand(player_hand))\n",
    "print(\"Player's hand value:\", calculate_hand_value(player_hand))\n",
    "print(\"Dealer's hand:\", display_hand(dealer_hand))\n",
    "print(\"Dealer's hand value:\", calculate_hand_value(dealer_hand))\n",
    "\n",
    "# Determine the winner\n",
    "player_value = calculate_hand_value(player_hand)\n",
    "dealer_value = calculate_hand_value(dealer_hand)\n",
    "\n",
    "if player_value > 21:\n",
    "    print(\"Player busts! Dealer wins!\")\n",
    "elif dealer_value > 21:\n",
    "    print(\"Dealer busts! Player wins!\")\n",
    "elif player_value == dealer_value:\n",
    "    print(\"It's a tie!\")\n",
    "elif player_value > dealer_value:\n",
    "    print(\"Player wins!\")\n",
    "else:\n",
    "    print(\"Dealer wins!\")\n"
   ]
  },
  {
   "cell_type": "markdown",
   "id": "0e497d6c-767c-472a-86ed-c5c923295fed",
   "metadata": {},
   "source": [
    "40. Write a program that generates the prime factors of a given number using trial division."
   ]
  },
  {
   "cell_type": "code",
   "execution_count": 104,
   "id": "01fef8f8-68df-4b2b-b58b-4aea4e3a6946",
   "metadata": {},
   "outputs": [
    {
     "name": "stdin",
     "output_type": "stream",
     "text": [
      "Enter a number:  6\n"
     ]
    },
    {
     "name": "stdout",
     "output_type": "stream",
     "text": [
      "The prime factors of 6 are: 2, 3\n"
     ]
    }
   ],
   "source": [
    "# Function to generate prime factors of a number using trial division\n",
    "def prime_factors(n):\n",
    "    factors = []\n",
    "    divisor = 2\n",
    "\n",
    "    while n > 1:\n",
    "        while n % divisor == 0:\n",
    "            factors.append(divisor)\n",
    "            n //= divisor\n",
    "        divisor += 1\n",
    "\n",
    "    return factors\n",
    "\n",
    "# Input a number from the user\n",
    "num = int(input(\"Enter a number: \"))\n",
    "\n",
    "# Generate and display prime factors\n",
    "factors = prime_factors(num)\n",
    "\n",
    "if len(factors) == 0:\n",
    "    print(f\"{num} has no prime factors.\")\n",
    "else:\n",
    "    print(f\"The prime factors of {num} are: {', '.join(map(str, factors))}\")\n"
   ]
  },
  {
   "cell_type": "code",
   "execution_count": null,
   "id": "5d3f411a-0abf-4b41-a15a-50f33a689109",
   "metadata": {},
   "outputs": [],
   "source": []
  }
 ],
 "metadata": {
  "kernelspec": {
   "display_name": "Python 3 (ipykernel)",
   "language": "python",
   "name": "python3"
  },
  "language_info": {
   "codemirror_mode": {
    "name": "ipython",
    "version": 3
   },
   "file_extension": ".py",
   "mimetype": "text/x-python",
   "name": "python",
   "nbconvert_exporter": "python",
   "pygments_lexer": "ipython3",
   "version": "3.10.8"
  }
 },
 "nbformat": 4,
 "nbformat_minor": 5
}
